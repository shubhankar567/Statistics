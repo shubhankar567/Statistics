{
 "cells": [
  {
   "cell_type": "markdown",
   "id": "6d852128-fb31-4413-b902-040cb0f2e1f4",
   "metadata": {},
   "source": [
    "# Answer 1:\n",
    "A Probability Mass Function (PMF) is a function that models the potential outcomes of a discrete random variable. It assigns a probability to each possible outcome of the random variable.\n",
    "\n",
    "For example, consider a fair coin toss. The outcome of the toss can be either heads or tails. Let `X` be a random variable that represents the outcome of the coin toss, where `X = 0` if the outcome is tails and `X = 1` if the outcome is heads. Since the coin is fair, the probability of getting heads is 0.5 and the probability of getting tails is also 0.5. The PMF of `X` can be represented as follows:\n",
    "\n",
    "```\n",
    "P(X = 0) = 0.5\n",
    "P(X = 1) = 0.5\n",
    "```\n",
    "\n",
    "A Probability Density Function (PDF), on the other hand, is used to describe the outcome of a continuous random variable . Unlike a PMF, which assigns probabilities to discrete outcomes, a PDF assigns probabilities to ranges of outcomes.\n",
    "\n",
    "For example, consider the height of adult males in a certain population. Let `X` be a random variable that represents the height of an adult male selected at random from this population. Since height is a continuous variable, we cannot assign probabilities to individual heights using a PMF. Instead, we can use a PDF to assign probabilities to ranges of heights.\n",
    "\n",
    "Suppose that the PDF of `X` is given by `f(x) = kx(180-x)` for `150 < x < 180`, where `k` is some constant. This PDF tells us that the probability that an adult male selected at random from this population has a height between `a` and `b` centimeters (where `150 < a < b < 180`) is given by the integral of `f(x)` from `a` to `b`, i.e.,\n",
    "\n",
    "```\n",
    "P(a < X < b) = ∫[a,b] f(x) dx\n",
    "```\n",
    "\n",
    "In summary, a PMF is used to model discrete random variables and assigns probabilities to individual outcomes, while a PDF is used to model continuous random variables and assigns probabilities to ranges of outcomes."
   ]
  },
  {
   "cell_type": "markdown",
   "id": "7371b08d-70fb-4649-b5f2-dcedd0bd05ce",
   "metadata": {},
   "source": [
    "# Answer 2:\n",
    "The **Cumulative Distribution Function (CDF)** of a continuous random variable X is defined as: F(x) = ∫(−∞ to x) f(t) dt for −∞ < x < ∞. It tells us the probability that a random variable takes on a value less than or equal to x.\n",
    "\n",
    "For example, let's say we roll a dice one time. The CDF would tell us the probability that the dice roll is less than or equal to a certain value. If we wanted to know the probability that the dice roll is less than or equal to 3, we would look at the CDF for x=3.\n",
    "\n",
    "CDF is used because it provides a way to calculate probabilities for continuous random variables. It accumulates all of the probability less than or equal to x."
   ]
  },
  {
   "cell_type": "markdown",
   "id": "29823736-a2b2-4578-9f2f-e99037048491",
   "metadata": {},
   "source": [
    "# Answer 3:\n",
    "The normal distribution is a commonly-used probability distribution in statistics. It is often used as a model for variables that are symmetrically distributed with no skew. Some examples of real-world phenomena that follow the normal distribution include birth weight of babies, height of males, shoe sizes, ACT scores, average NFL player retirement age and blood pressure.\n",
    "\n",
    "The shape of the normal distribution is determined by its two parameters: the mean and the standard deviation. The mean determines where the peak of the curve is centered. Increasing the mean moves the curve right, while decreasing it moves the curve left. The standard deviation stretches or squeezes the curve. A small standard deviation results in a narrow curve, while a large standard deviation leads to a wide curve."
   ]
  },
  {
   "cell_type": "markdown",
   "id": "829c5243-b6ac-4bd5-b78d-89809cdae3a5",
   "metadata": {},
   "source": [
    "# Answer 4:\n",
    "The normal distribution is important in statistics because it is the fundamental distribution for statistical testing. Many variables in natural and social sciences are normally or approximately normally distributed. Height, birth weight, reading ability, job satisfaction, or exam scores are just a few examples of such variables. Because normally distributed variables are so common, many statistical tests are designed for normally distributed populations. Understanding the properties of normal distributions means you can use inferential statistics to compare different groups and make estimates about populations using samples."
   ]
  },
  {
   "cell_type": "markdown",
   "id": "24b1134d-7d62-4a65-8b41-4c83a9c02f1f",
   "metadata": {},
   "source": [
    "# Answer 5:\n",
    "A **Bernoulli distribution** is a discrete probability distribution for a Bernoulli trial — a random experiment that has only two outcomes (usually called a “Success” or a “Failure”). For example, the probability of getting a heads (a “success”) while flipping a coin is 0.5.\n",
    "\n",
    "The difference between Bernoulli Distribution and Binomial Distribution is that Bernoulli Distribution is a special case of the binomial distribution for n = 1. In other words, it is a binomial distribution with a single trial (e.g. a single coin toss)."
   ]
  },
  {
   "cell_type": "markdown",
   "id": "2fe1f2a5-d17c-4fc2-9b84-a6a73f59643f",
   "metadata": {},
   "source": [
    "# Answer 6:\n",
    "If we assume that the dataset is normally distributed with a mean of 50 and a standard deviation of 10, we can standardize the value of 60 to find the probability that a randomly selected observation will be greater than 60.\n",
    "\n",
    "To standardize the value of 60, we subtract the mean (50) and divide by the standard deviation (10):\n",
    "\n",
    "z = (60 - 50) / 10 = 1\n",
    "\n",
    "This tells us that the value of 60 is one standard deviation above the mean. We can then use a z-table to find the probability that a randomly selected observation will be greater than 60. Looking up a z-score of 1 in a z-table gives us a probability of approximately 0.8413. However, this is the probability that an observation will be less than or equal to 60. To find the probability that an observation will be greater than 60, we subtract this value from 1:\n",
    "\n",
    "P(X > 60) = 1 - P(X ≤ 60) = 1 - 0.8413 = 0.1587\n",
    "\n",
    "So, if we assume that the dataset is normally distributed with a mean of 50 and a standard deviation of 10, there is approximately a **15.87%** chance that a randomly selected observation will be greater than 60."
   ]
  },
  {
   "cell_type": "markdown",
   "id": "5b59de3e-2c4d-428c-aa0d-8cc48558d317",
   "metadata": {},
   "source": [
    "# Answer 7:\n",
    "A **uniform distribution** is a probability distribution in which every value between an interval from a to b is equally likely to occur. Uniform distributions come in both discrete and continuous varieties of probability distributions. In the discrete case, each discrete value has an equal probability. For example, the chances of obtaining any of the six values on a die are equal. In the continuous case, it models symmetric, continuous data where all equal sized ranges have the same probability.\n",
    "\n",
    "An example of a uniform distribution is rolling a die one time. The probability that it falls on a number between 1 and 6 follows a uniform distribution because each number is equally likely to occur."
   ]
  },
  {
   "cell_type": "markdown",
   "id": "81116b4d-9aaa-486d-955e-ab723b387b75",
   "metadata": {},
   "source": [
    "# Answer 8:\n",
    "A **z-score** measures the distance between a data point and the mean using standard deviations. Z-scores can be positive or negative. The sign tells you whether the observation is above or below the mean. For example, a z-score of +2 indicates that the data point falls two standard deviations above the mean, while a -2 signifies it is two standard deviations below the mean. A z-score of zero equals the mean.\n",
    "\n",
    "The z-score is important because it lets statisticians and traders know whether a score falls within the norm for a given data set or deviates from it. Analysts can also modify scores from multiple data sets using z-scores to create scores that are more accurately comparable to one another."
   ]
  },
  {
   "cell_type": "markdown",
   "id": "68da46fd-6e13-4b0a-bbdc-2fb5007c2b7e",
   "metadata": {},
   "source": [
    "# Answer 9:\n",
    "The **Central Limit Theorem** is a key concept in probability and statistics that establishes that the sum or average of many independent and randomly generated variables, when properly normalized, tends to a normal distribution. This implies that statistical methods that work for normal distributions can be applied to many problems involving other types of distributions. The theorem also states that the distribution of sample means approximates a normal distribution as the sample size gets larger, regardless of the population's distribution. The sample mean and standard deviation will equal the population mean and standard deviation. The theorem holds true for sufficiently large sample sizes (usually n > 30).\n",
    "\n",
    "The Central Limit Theorem is important for inferential statistics because it allows us to safely assume that the sampling distribution of the mean will be normal in most cases. This means that we can take advantage of statistical techniques that assume a normal distribution."
   ]
  },
  {
   "cell_type": "markdown",
   "id": "fbea4c22-2bbf-4f2e-a818-900123ccc3a9",
   "metadata": {},
   "source": [
    "# Answer 10:\n",
    "The Central Limit Theorem is based on three main assumptions: independence, randomness, and sample size. The samples must be independent of each other, randomly selected, and the sample size must be sufficiently large (usually n > 30)."
   ]
  },
  {
   "cell_type": "code",
   "execution_count": null,
   "id": "83a69c00-528e-4ba8-8282-b779dae1bf36",
   "metadata": {},
   "outputs": [],
   "source": []
  }
 ],
 "metadata": {
  "kernelspec": {
   "display_name": "Python 3 (ipykernel)",
   "language": "python",
   "name": "python3"
  },
  "language_info": {
   "codemirror_mode": {
    "name": "ipython",
    "version": 3
   },
   "file_extension": ".py",
   "mimetype": "text/x-python",
   "name": "python",
   "nbconvert_exporter": "python",
   "pygments_lexer": "ipython3",
   "version": "3.10.8"
  }
 },
 "nbformat": 4,
 "nbformat_minor": 5
}
