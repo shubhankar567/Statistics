{
 "cells": [
  {
   "cell_type": "markdown",
   "id": "67857da1-b1d2-49fe-8a82-9dad267c72c9",
   "metadata": {},
   "source": [
    "# Answer 1:\n",
    "Estimation Statistics is a branch of statistics that deals with estimating population parameters using sample data. There are two common methods for estimating such parameters: **point estimation** and **interval estimation**.\n",
    "\n",
    "A **point estimate** is a single value estimate of a population parameter. For instance, a sample mean is a point estimate of a population mean. The main advantage of point estimation is its simplicity. It is easy to calculate and understand, and it provides a single estimate of the parameter value.\n",
    "\n",
    "An **interval estimate** gives you a range of values where the parameter is expected to lie. A confidence interval is the most common type of interval estimate. The main advantage of interval estimation is that it provides information about the precision and accuracy of the estimate."
   ]
  },
  {
   "cell_type": "markdown",
   "id": "edb370db-eeea-4e0e-b59f-885ea1359207",
   "metadata": {},
   "source": [
    "# Answer 2:"
   ]
  },
  {
   "cell_type": "code",
   "execution_count": 4,
   "id": "5344d87f-76ee-4c4d-8b3a-4256bb32ff50",
   "metadata": {},
   "outputs": [
    {
     "name": "stdout",
     "output_type": "stream",
     "text": [
      "Estimated population mean: 3.0\n",
      "95% confidence interval for population mean: (1.244021933829831, 4.755978066170169)\n"
     ]
    }
   ],
   "source": [
    "import math\n",
    "from scipy import stats\n",
    "import numpy as np\n",
    "\n",
    "# sample data\n",
    "sample = [1, 2, 3, 4, 5]\n",
    "\n",
    "# calculate sample mean and standard deviation\n",
    "sample_mean = sum(sample) / len(sample)\n",
    "sample_std = np.std(sample)\n",
    "\n",
    "# estimate population mean using sample mean\n",
    "pop_mean_estimate = sample_mean\n",
    "\n",
    "# calculate margin of error for 95% confidence interval\n",
    "margin_of_error = stats.t.ppf(0.975, len(sample) - 1) * (sample_std / math.sqrt(len(sample)))\n",
    "\n",
    "# calculate 95% confidence interval for population mean\n",
    "lower_bound = pop_mean_estimate - margin_of_error\n",
    "upper_bound = pop_mean_estimate + margin_of_error\n",
    "\n",
    "print(f\"Estimated population mean: {pop_mean_estimate}\")\n",
    "print(f\"95% confidence interval for population mean: ({lower_bound}, {upper_bound})\")\n"
   ]
  },
  {
   "cell_type": "markdown",
   "id": "331c19e0-13f2-46e5-874b-950fcd6a96a7",
   "metadata": {},
   "source": [
    "# Answer 3:\n",
    "Hypothesis testing is a form of inferential statistics that evaluates two mutually exclusive statements about a population to determine which statement is best supported by the sample data. It is a crucial procedure to perform when making inferences about a population using a random sample.\n",
    "\n",
    "Hypothesis testing allows us to draw conclusions about an entire population based on a representative sample. It provides a framework for making determinations related to the population and helps to understand how reliably one can extrapolate observed findings in a sample under study to the larger population from which the sample was drawn.\n",
    "\n",
    "Hypothesis testing is important because it helps to determine if something really happened, if certain treatments have positive effects, if groups differ from each other, or if one variable predicts another¹. It is one of the most important concepts in statistics because it is how you decide if something really happened."
   ]
  },
  {
   "cell_type": "markdown",
   "id": "957f92d7-db5d-48f8-9732-190a007bd109",
   "metadata": {},
   "source": [
    "# Answer 4:\n",
    "Null Hypothesis ($H_0$): The average weight of male college students is equal to the average weight of female college students.\n",
    "\n",
    "Alternative Hypothesis ($H_a$): The average weight of male college students is greater than the average weight of female college students.\n",
    "\n",
    "The null hypothesis states that there is no difference in the average weight between male and female college students, while the alternative hypothesis states that the average weight of male college students is greater than that of female college students."
   ]
  },
  {
   "cell_type": "markdown",
   "id": "dde93a3c-6de7-4408-89f7-103825e805f6",
   "metadata": {},
   "source": [
    "# Answer 5:"
   ]
  },
  {
   "cell_type": "code",
   "execution_count": 5,
   "id": "00cc29ee-95a5-4ef7-8da3-f2b1d4058a11",
   "metadata": {},
   "outputs": [
    {
     "name": "stdout",
     "output_type": "stream",
     "text": [
      "t-statistic: -5.0\n",
      "p-value: 0.001052825793366539\n",
      "Reject null hypothesis: there is a significant difference between the two population means.\n"
     ]
    }
   ],
   "source": [
    "from scipy import stats\n",
    "\n",
    "# sample data\n",
    "sample1 = [1, 2, 3, 4, 5]\n",
    "sample2 = [6, 7, 8, 9, 10]\n",
    "\n",
    "# conduct two-sample t-test\n",
    "t_statistic, p_value = stats.ttest_ind(sample1, sample2)\n",
    "\n",
    "# set significance level\n",
    "alpha = 0.05\n",
    "\n",
    "# print results\n",
    "print(f\"t-statistic: {t_statistic}\")\n",
    "print(f\"p-value: {p_value}\")\n",
    "\n",
    "if p_value < alpha:\n",
    "    print(\"Reject null hypothesis: there is a significant difference between the two population means.\")\n",
    "else:\n",
    "    print(\"Fail to reject null hypothesis: there is not enough evidence to support a significant difference between the two population means.\")\n"
   ]
  },
  {
   "cell_type": "markdown",
   "id": "171321fc-5873-4268-9e31-45fafcf78360",
   "metadata": {},
   "source": [
    "# Answer 6:\n",
    "In hypothesis testing, a null hypothesis ($H_0$) is a statement that there is no significant difference or relationship between two or more variables. It is a statement of no effect or no change. The null hypothesis is usually the hypothesis that is being tested and is assumed to be true until evidence suggests otherwise.\n",
    "\n",
    "An alternative hypothesis ($H_a$) is a statement that contradicts the null hypothesis. It is a statement of an effect or change. The alternative hypothesis is usually the hypothesis that the researcher is trying to prove.\n",
    "\n",
    "Here are some examples of null and alternative hypotheses:\n",
    "\n",
    "Example 1:\n",
    "- Null Hypothesis ($H_0$): There is no significant difference in the average height between men and women.\n",
    "- Alternative Hypothesis ($H_a$): There is a significant difference in the average height between men and women.\n",
    "\n",
    "Example 2:\n",
    "- Null Hypothesis ($H_0$): There is no significant relationship between smoking and lung cancer.\n",
    "- Alternative Hypothesis ($H_a$): There is a significant relationship between smoking and lung cancer.\n",
    "\n",
    "Example 3:\n",
    "- Null Hypothesis ($H_0$): The new medication has no effect on reducing blood pressure.\n",
    "- Alternative Hypothesis ($H_a$): The new medication has an effect on reducing blood pressure."
   ]
  },
  {
   "cell_type": "markdown",
   "id": "6b12f1f4-db55-4c12-a5c0-2554ed08ec39",
   "metadata": {},
   "source": [
    "# Answer 7:\n",
    "Hypothesis testing is a formal procedure for investigating our ideas about the world using statistics. Here are the steps involved in hypothesis testing:\n",
    "\n",
    "1. **State the null and alternative hypotheses**: The first step in hypothesis testing is to state the null and alternative hypotheses. The null hypothesis ($H_0$) is a statement that there is no significant difference or relationship between two or more variables. The alternative hypothesis ($H_a$) is a statement that contradicts the null hypothesis and is what the researcher is trying to prove.\n",
    "\n",
    "2. **Choose an appropriate test**: The next step is to choose an appropriate statistical test to test the null hypothesis. The choice of test depends on the type of data and the research question.\n",
    "\n",
    "3. **Set a significance level**: The significance level ($\\alpha$) is the probability of rejecting the null hypothesis when it is true. It is usually set at 0.05, which means that there is a 5% chance of rejecting the null hypothesis when it is true.\n",
    "\n",
    "4. **Collect data and calculate test statistic**: The next step is to collect data and calculate the test statistic using the chosen statistical test.\n",
    "\n",
    "5. **Make a decision**: The final step is to make a decision based on the calculated test statistic and the chosen significance level. If the p-value (the probability of obtaining a test statistic as extreme as the one observed, assuming the null hypothesis is true) is less than or equal to the significance level, then we reject the null hypothesis and conclude that there is evidence to support the alternative hypothesis. If the p-value is greater than the significance level, then we fail to reject the null hypothesis and conclude that there is not enough evidence to support the alternative hypothesis."
   ]
  },
  {
   "cell_type": "markdown",
   "id": "f6822157-e432-40b7-bce5-5ef6f9c04737",
   "metadata": {},
   "source": [
    "# Answer 8:\n",
    "In hypothesis testing, the p-value is the probability of obtaining a test statistic as extreme as the one observed, assuming the null hypothesis is true. It is a measure of the evidence against the null hypothesis.\n",
    "\n",
    "The p-value is used to make a decision about the null hypothesis. If the p-value is less than or equal to a pre-determined significance level (usually 0.05), then we reject the null hypothesis and conclude that there is evidence to support the alternative hypothesis. If the p-value is greater than the significance level, then we fail to reject the null hypothesis and conclude that there is not enough evidence to support the alternative hypothesis.\n",
    "\n",
    "The p-value is significant in hypothesis testing because it helps us to make a decision about the null hypothesis based on the observed data. A small p-value indicates strong evidence against the null hypothesis, while a large p-value indicates weak evidence against the null hypothesis."
   ]
  },
  {
   "cell_type": "markdown",
   "id": "034fc132-2d12-4a8f-89e0-5dddd9c5a68d",
   "metadata": {},
   "source": [
    "# Answer 9:"
   ]
  },
  {
   "cell_type": "code",
   "execution_count": 9,
   "id": "2116275c-5b6d-40a1-8d41-947804be7873",
   "metadata": {},
   "outputs": [
    {
     "data": {
      "image/png": "[encoded data removed]",
      "text/plain": [
       "<Figure size 640x480 with 1 Axes>"
      ]
     },
     "metadata": {},
     "output_type": "display_data"
    }
   ],
   "source": [
    "import numpy as np\n",
    "from scipy.stats import t\n",
    "import matplotlib.pyplot as plt\n",
    "\n",
    "# set degrees of freedom\n",
    "df = 10\n",
    "\n",
    "# generate x values\n",
    "x = np.linspace(-5,5, 100)\n",
    "\n",
    "# generate y values (probability density)\n",
    "y = t.pdf(x, df)\n",
    "\n",
    "# plot t-distribution\n",
    "plt.plot(x, y)\n",
    "plt.title(f\"Student's t-distribution (df={df})\")\n",
    "plt.xlabel(\"x\")\n",
    "plt.ylabel(\"Probability Density\")\n",
    "plt.show()\n"
   ]
  },
  {
   "cell_type": "markdown",
   "id": "b06cb8f2-9d2b-43b2-bb1d-70ff81b5d688",
   "metadata": {},
   "source": [
    "# Answer 10:"
   ]
  },
  {
   "cell_type": "code",
   "execution_count": 10,
   "id": "7c1fad52-861b-4765-890f-1cb89bbc9339",
   "metadata": {},
   "outputs": [
    {
     "name": "stdout",
     "output_type": "stream",
     "text": [
      "t-statistic: -5.0\n",
      "p-value: 0.001052825793366539\n",
      "Reject null hypothesis: there is a significant difference between the two population means.\n"
     ]
    }
   ],
   "source": [
    "from scipy import stats\n",
    "\n",
    "# sample data\n",
    "sample1 = [1, 2, 3, 4, 5]\n",
    "sample2 = [6, 7, 8, 9, 10]\n",
    "\n",
    "# conduct two-sample t-test\n",
    "t_statistic, p_value = stats.ttest_ind(sample1, sample2)\n",
    "\n",
    "# set significance level\n",
    "alpha = 0.05\n",
    "\n",
    "# print results\n",
    "print(f\"t-statistic: {t_statistic}\")\n",
    "print(f\"p-value: {p_value}\")\n",
    "\n",
    "if p_value < alpha:\n",
    "    print(\"Reject null hypothesis: there is a significant difference between the two population means.\")\n",
    "else:\n",
    "    print(\"Fail to reject null hypothesis: there is not enough evidence to support a significant difference between the two population means.\")\n"
   ]
  },
  {
   "cell_type": "markdown",
   "id": "ce4998fe-8978-4b05-bd18-a558bd7fcb07",
   "metadata": {},
   "source": [
    "# Answer 11:\n",
    "Student’s t-distribution, also known as the t-distribution, is a probability distribution that is used in statistics for making inferences about the population mean when the sample size is small or when the population standard deviation is unknown. It is similar to the standard normal distribution (Z-distribution), but it has heavier tails.\n",
    "\n",
    "The t-distribution is used when:\n",
    "- The sample size is 30 or less than 30.\n",
    "- The population standard deviation (σ) is unknown.\n",
    "- The population distribution must be unimodal and skewed."
   ]
  },
  {
   "cell_type": "markdown",
   "id": "ef7450a7-1344-4f29-80b2-31e271ba24a2",
   "metadata": {},
   "source": [
    "# Answer 12:\n",
    "The t-statistic is a measure of the difference between two groups in terms of their means and standard deviations. It is used in hypothesis testing to determine if there is a significant difference between the two groups.\n",
    "\n",
    "The formula for the t-statistic for a two-sample t-test is:\n",
    "\n",
    "$t = \\frac{x̄_1 - x̄_2}{s * \\sqrt(\\frac{1}{n_1} + \\frac{1}{n_2})}$\n",
    "\n",
    "where:\n",
    "- $x̄_1$ and $x̄_2$ are the sample means of the two groups\n",
    "- s is the pooled standard deviation\n",
    "- $n_1$ and $n_2$ are the sample sizes of the two groups\n",
    "\n",
    "The t-statistic measures the difference between the two sample means in terms of their standard errors. A large t-statistic indicates that the difference between the two sample means is large relative to their standard errors, while a small t-statistic indicates that the difference between the two sample means is small relative to their standard errors."
   ]
  },
  {
   "cell_type": "markdown",
   "id": "d7b52028-a583-468c-b3de-acde5d7ef8d7",
   "metadata": {},
   "source": [
    "# Answer 13:"
   ]
  },
  {
   "cell_type": "code",
   "execution_count": 11,
   "id": "8ad362c3-b768-44ce-bf03-de530605d83b",
   "metadata": {},
   "outputs": [
    {
     "name": "stdout",
     "output_type": "stream",
     "text": [
      "95% confidence interval for population mean: (485.79, 514.21)\n"
     ]
    }
   ],
   "source": [
    "from scipy import stats\n",
    "\n",
    "# sample data\n",
    "sample_mean = 500\n",
    "sample_std = 50\n",
    "sample_size = 50\n",
    "\n",
    "# calculate margin of error for 95% confidence interval\n",
    "margin_of_error = stats.t.ppf(0.975, sample_size - 1) * (sample_std / (sample_size ** 0.5))\n",
    "\n",
    "# calculate 95% confidence interval for population mean\n",
    "lower_bound = sample_mean - margin_of_error\n",
    "upper_bound = sample_mean + margin_of_error\n",
    "\n",
    "print(f\"95% confidence interval for population mean: ({lower_bound:.2f}, {upper_bound:.2f})\")\n"
   ]
  },
  {
   "cell_type": "markdown",
   "id": "c6ba4016-9a18-470a-95cb-33d209c06d3d",
   "metadata": {},
   "source": [
    "# Answer 14:"
   ]
  },
  {
   "cell_type": "code",
   "execution_count": 4,
   "id": "78a94ea8-1097-4bbb-b4c0-f3cd363351cf",
   "metadata": {},
   "outputs": [
    {
     "name": "stdout",
     "output_type": "stream",
     "text": [
      "t-statistic: -7.0478755993914595\n",
      "p-value: 2.4626896573294676e-10\n",
      "Reject null hypothesis: there is evidence to suggest that the population mean decrease in blood pressure is not equal to 10 mmHg.\n"
     ]
    }
   ],
   "source": [
    "from scipy import stats\n",
    "import numpy as np\n",
    "\n",
    "# sample data\n",
    "sample_mean = 8\n",
    "sample_std = 3\n",
    "sample_size = 100\n",
    "\n",
    "# generate sample data from normal distribution\n",
    "sample = np.random.normal(sample_mean, sample_std, sample_size)\n",
    "\n",
    "# hypothesized population mean\n",
    "pop_mean = 10\n",
    "\n",
    "# significance level\n",
    "alpha = 0.05\n",
    "\n",
    "# conduct one-sample t-test\n",
    "t_statistic, p_value = stats.ttest_1samp(sample, pop_mean)\n",
    "\n",
    "# print results\n",
    "print(f\"t-statistic: {t_statistic}\")\n",
    "print(f\"p-value: {p_value}\")\n",
    "\n",
    "if p_value < alpha:\n",
    "    print(\"Reject null hypothesis: there is evidence to suggest that the population mean decrease in blood pressure is not equal to 10 mmHg.\")\n",
    "else:\n",
    "    print(\"Fail to reject null hypothesis: there is not enough evidence to support a significant difference between the population mean decrease in blood pressure and 10 mmHg.\")\n"
   ]
  },
  {
   "cell_type": "markdown",
   "id": "d89102a4-6f92-4489-b804-a053f4de25d4",
   "metadata": {},
   "source": [
    "# Answer 15:"
   ]
  },
  {
   "cell_type": "code",
   "execution_count": 5,
   "id": "7984147e-5f5c-467d-ac2c-0d6d818e4f9b",
   "metadata": {},
   "outputs": [
    {
     "name": "stdout",
     "output_type": "stream",
     "text": [
      "t-statistic: -2.0000000000000018\n",
      "p-value: 0.02846992496829572\n",
      "Fail to reject null hypothesis: there is not enough evidence to support a significant difference between the true mean weight of the products and 5 pounds.\n"
     ]
    }
   ],
   "source": [
    "from scipy import stats\n",
    "\n",
    "# sample data\n",
    "sample_mean = 4.8\n",
    "pop_std = 0.5\n",
    "sample_size = 25\n",
    "\n",
    "# hypothesized population mean\n",
    "pop_mean = 5\n",
    "\n",
    "# significance level\n",
    "alpha = 0.01\n",
    "\n",
    "# calculate test statistic\n",
    "t_statistic = (sample_mean - pop_mean) / (pop_std / (sample_size ** 0.5))\n",
    "\n",
    "# calculate p-value for one-sided test\n",
    "p_value = stats.t.cdf(t_statistic, sample_size - 1)\n",
    "\n",
    "# print results\n",
    "print(f\"t-statistic: {t_statistic}\")\n",
    "print(f\"p-value: {p_value}\")\n",
    "\n",
    "if p_value < alpha:\n",
    "    print(\"Reject null hypothesis: there is evidence to suggest that the true mean weight of the products is less than 5 pounds.\")\n",
    "else:\n",
    "    print(\"Fail to reject null hypothesis: there is not enough evidence to support a significant difference between the true mean weight of the products and 5 pounds.\")\n"
   ]
  },
  {
   "cell_type": "markdown",
   "id": "ae1212d8-bc9c-4cbf-a16d-65523670ccdd",
   "metadata": {},
   "source": [
    "# Answer 16:"
   ]
  },
  {
   "cell_type": "code",
   "execution_count": 2,
   "id": "ffa6dc25-2b6f-4a1c-bbf8-e472a3b5490a",
   "metadata": {},
   "outputs": [
    {
     "name": "stdout",
     "output_type": "stream",
     "text": [
      "We do not have enough evidence to reject the null hypothesis that the population means for the two groups are equal.\n"
     ]
    }
   ],
   "source": [
    "from scipy import stats\n",
    "\n",
    "n1 = 30\n",
    "mean1 = 80\n",
    "std1 = 10\n",
    "\n",
    "n2 = 40\n",
    "mean2 = 75\n",
    "std2 = 8\n",
    "\n",
    "# Calculate the t-statistic and p-value\n",
    "t_statistic, p_value = stats.ttest_ind_from_stats(mean1=mean1, std1=std1, nobs1=n1, mean2=mean2, std2=std2, nobs2=n2)\n",
    "\n",
    "# Compare p-value with significance level\n",
    "if p_value < 0.01:\n",
    "    print(\"We reject the null hypothesis that the population means for the two groups are equal.\")\n",
    "else:\n",
    "    print(\"We do not have enough evidence to reject the null hypothesis that the population means for the two groups are equal.\")\n"
   ]
  },
  {
   "cell_type": "markdown",
   "id": "74b8fa80-1bc2-4056-ba11-df02010f1a80",
   "metadata": {},
   "source": [
    "# Answer 17:"
   ]
  },
  {
   "cell_type": "code",
   "execution_count": 3,
   "id": "298e3c27-b3a6-4b12-9509-f6b44b9fa860",
   "metadata": {},
   "outputs": [
    {
     "name": "stdout",
     "output_type": "stream",
     "text": [
      "The 99.0% confidence interval for the population mean is approximately (3.454, 4.546)\n"
     ]
    }
   ],
   "source": [
    "import scipy.stats as stats\n",
    "\n",
    "n = 50\n",
    "sample_mean = 4\n",
    "sample_std = 1.5\n",
    "confidence_level = 0.99\n",
    "\n",
    "# Calculate the margin of error\n",
    "margin_of_error = stats.norm.ppf((1 + confidence_level) / 2) * (sample_std / (n ** 0.5))\n",
    "\n",
    "# Calculate the confidence interval\n",
    "lower_bound = sample_mean - margin_of_error\n",
    "upper_bound = sample_mean + margin_of_error\n",
    "\n",
    "print(f\"The {confidence_level * 100}% confidence interval for the population mean is approximately ({lower_bound:.3f}, {upper_bound:.3f})\")\n"
   ]
  },
  {
   "cell_type": "code",
   "execution_count": null,
   "id": "9f865e75-11e7-460f-aead-00472fedf43c",
   "metadata": {},
   "outputs": [],
   "source": []
  }
 ],
 "metadata": {
  "kernelspec": {
   "display_name": "Python 3 (ipykernel)",
   "language": "python",
   "name": "python3"
  },
  "language_info": {
   "codemirror_mode": {
    "name": "ipython",
    "version": 3
   },
   "file_extension": ".py",
   "mimetype": "text/x-python",
   "name": "python",
   "nbconvert_exporter": "python",
   "pygments_lexer": "ipython3",
   "version": "3.10.8"
  }
 },
 "nbformat": 4,
 "nbformat_minor": 5
}
