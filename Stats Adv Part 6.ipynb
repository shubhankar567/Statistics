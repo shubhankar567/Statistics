{
 "cells": [
  {
   "cell_type": "markdown",
   "id": "19205516-9c18-4c68-bf41-ba39ee4129f2",
   "metadata": {},
   "source": [
    "# Answer 1:\n",
    "ANOVA (Analysis of Variance) is a statistical test used to determine whether there is a significant difference between the means of three or more independent groups. There are three primary assumptions for ANOVA: **normality**, **equal variances**, and **independence**.\n",
    "\n",
    "1. **Normality**: Each sample was drawn from a normally distributed population.\n",
    "2. **Equal Variances**: The variances of the populations that the samples come from are equal.\n",
    "3. **Independence**: The observations in each group are independent of each other and the observations within groups were obtained by a random sample.\n",
    "\n",
    "Violations to the first two assumptions that are not extreme can be considered not serious. The sampling distribution of the test statistic is fairly robust, especially as sample size increases and more so if the sample sizes for all factor levels are equal. However, if these assumptions are violated, then the results of ANOVA could be unreliable.\n",
    "\n",
    "For example, if the assumption of homogeneity of variance was violated in your analysis of variance (ANOVA), you can use alternative F statistics (Welch’s or Brown-Forsythe) to determine if you have statistical significance."
   ]
  },
  {
   "cell_type": "markdown",
   "id": "f29833a2-0fd3-473d-882a-7b1cf266ed35",
   "metadata": {},
   "source": [
    "# Answer 2:\n",
    "There are two main types of ANOVA: **one-way** and **two-way**. Two-way tests can be with or without replication.\n",
    "\n",
    "1. **One-way ANOVA**: used when you want to test two groups to see if there’s a difference between them.\n",
    "2. **Two-way ANOVA without replication**: used when you have one group and you’re double-testing that same group.\n",
    "3. **Two-way ANOVA with replication**: Two groups, and the members of those groups are doing more than one thing."
   ]
  },
  {
   "cell_type": "markdown",
   "id": "65d16c05-4af5-4518-ae0e-603a2cbc6be4",
   "metadata": {},
   "source": [
    "# Answer 3:\n",
    "ANOVA (Analysis of Variance) is based on the law of total variance, where the observed variance in a particular variable is partitioned into components attributable to different sources of variation. In its simplest form, ANOVA provides a statistical test of whether two or more population means are equal, and therefore generalizes the t-test beyond two means.\n",
    "\n",
    "In repeated measures ANOVA, the total variance can be partitioned into variance between subjects and variance within subjects. Variance within subjects consists of two components: differences between treatments and error or residual variation.\n",
    "\n",
    "It is important to understand this concept because it allows you to determine how much of the variance in your data is due to the different factors you are testing, and how much is due to random error. This can help you determine whether your results are statistically significant and whether your experimental design is appropriate for answering your research question."
   ]
  },
  {
   "cell_type": "markdown",
   "id": "55f54747-6e21-453d-a67b-4cd8836dec42",
   "metadata": {},
   "source": [
    "# Answer 4:\n"
   ]
  },
  {
   "cell_type": "code",
   "execution_count": 1,
   "id": "4a96f8e7-f2d4-4288-80cf-58373d429a97",
   "metadata": {},
   "outputs": [
    {
     "name": "stdout",
     "output_type": "stream",
     "text": [
      "SST: 60.0\n",
      "SSE: 54.0\n",
      "SSR: 6.0\n"
     ]
    }
   ],
   "source": [
    "import numpy as np\n",
    "\n",
    "# sample data\n",
    "data = {'Group1': [3, 2, 1], 'Group2': [6, 5, 4], 'Group3': [7, 8, 9]}\n",
    "group_names = list(data.keys())\n",
    "group_means = [np.mean(data[group]) for group in group_names]\n",
    "grand_mean = np.mean(group_means)\n",
    "\n",
    "# total sum of squares\n",
    "sst = 0\n",
    "for group in group_names:\n",
    "    for value in data[group]:\n",
    "        sst += (value - grand_mean)**2\n",
    "\n",
    "# explained sum of squares\n",
    "sse = 0\n",
    "for group in group_names:\n",
    "    for value in data[group]:\n",
    "        sse += (np.mean(data[group]) - grand_mean)**2\n",
    "\n",
    "# residual sum of squares\n",
    "ssr = sst - sse\n",
    "\n",
    "print('SST:', sst)\n",
    "print('SSE:', sse)\n",
    "print('SSR:', ssr)\n"
   ]
  },
  {
   "cell_type": "markdown",
   "id": "05a8a3fd-bb5c-421e-a1d6-c74c3ec4bc5d",
   "metadata": {},
   "source": [
    "This code calculates the SST by summing the squared differences between each value and the grand mean. The SSE is calculated by summing the squared differences between each group mean and the grand mean. The SSR is calculated by subtracting the SSE from the SST."
   ]
  },
  {
   "cell_type": "markdown",
   "id": "53f16c0b-a82d-49ac-96c1-88cdba82701f",
   "metadata": {},
   "source": [
    "# Answer 5:\n"
   ]
  },
  {
   "cell_type": "code",
   "execution_count": 2,
   "id": "0d8e81e6-2533-49db-9d55-b49a32867503",
   "metadata": {},
   "outputs": [
    {
     "name": "stdout",
     "output_type": "stream",
     "text": [
      "            df        sum_sq       mean_sq             F    PR(>F)\n",
      "C(A)       1.0  3.200000e+01  3.200000e+01  6.400000e+01  0.001324\n",
      "C(B)       1.0  8.000000e+00  8.000000e+00  1.600000e+01  0.016130\n",
      "C(A):C(B)  1.0  1.972152e-31  1.972152e-31  3.944305e-31  1.000000\n",
      "Residual   4.0  2.000000e+00  5.000000e-01           NaN       NaN\n"
     ]
    }
   ],
   "source": [
    "import numpy as np\n",
    "import pandas as pd\n",
    "from statsmodels.formula.api import ols\n",
    "from statsmodels.stats.anova import anova_lm\n",
    "\n",
    "# sample data\n",
    "data = {'A': ['a1', 'a1', 'a1', 'a1', 'a2', 'a2', 'a2', 'a2'],\n",
    "        'B': ['b1', 'b1', 'b2', 'b2', 'b1', 'b1', 'b2', 'b2'],\n",
    "        'Y': [1, 2, 3, 4, 5, 6, 7, 8]}\n",
    "df = pd.DataFrame(data)\n",
    "\n",
    "# fit the model\n",
    "model = ols('Y ~ C(A) + C(B) + C(A):C(B)', data=df).fit()\n",
    "\n",
    "# perform ANOVA\n",
    "anova_results = anova_lm(model)\n",
    "\n",
    "# print results\n",
    "print(anova_results)\n"
   ]
  },
  {
   "cell_type": "markdown",
   "id": "8aaf3a78-8d27-40f9-8442-a5aa715f99ec",
   "metadata": {},
   "source": [
    "This code uses the `statsmodels` library to fit a linear model with main effects for factors A and B and an interaction effect between A and B. The `anova_lm` function is then used to perform a two-way ANOVA on the fitted model. The resulting ANOVA table shows the sum of squares, degrees of freedom, mean square, F-statistic, and p-value for each effect."
   ]
  },
  {
   "cell_type": "markdown",
   "id": "5336eaf5-852e-4da1-aba3-f4b0be3aeedf",
   "metadata": {},
   "source": [
    "# Answer 6:\n",
    "If you conducted a one-way ANOVA and obtained an F-statistic of 5.23 and a p-value of 0.02, you can conclude that there is a statistically significant difference between the means of the groups. The p-value of 0.02 indicates that there is only a 2% chance of observing an F-statistic as large as 5.23 if the null hypothesis (that the group means are equal) were true.\n",
    "\n",
    "In other words, the low p-value suggests that it is unlikely that the observed differences between the group means are due to random chance alone. Instead, it is more likely that there is a true difference between the means of the groups.\n",
    "\n",
    "It is important to note that while the p-value can tell you whether there is a statistically significant difference between the groups, it does not tell you anything about the size or practical significance of the difference. To determine the practical significance of the results, you would need to look at additional measures such as effect size or confidence intervals."
   ]
  },
  {
   "cell_type": "markdown",
   "id": "e88f1351-8b49-47c4-8756-fae60a3e2cc7",
   "metadata": {},
   "source": [
    "# Answer 7:\n",
    "In a repeated measures ANOVA, missing data can be a serious problem. One of the biggest problems with traditional repeated measures ANOVA is that it treats each measurement as a separate variable and uses listwise deletion. This means that if one measurement is missing, the entire case gets dropped.\n",
    "\n",
    "There are several methods for handling missing data in a repeated measures ANOVA. One option is to use a mixed effects model, which can handle missing data more effectively than traditional repeated measures ANOVA. Mixed effects models treat each occasion as a different observation of the same variable and have no problems with missing values.\n",
    "\n",
    "Another option is to use multiple imputation to fill in the missing values before performing the analysis. Multiple imputation involves creating several complete datasets by filling in the missing values using statistical methods. The analysis is then performed on each of these datasets, and the results are combined to produce a single set of estimates.\n",
    "\n",
    "It is important to carefully consider the method used to handle missing data, as different methods can have different consequences for the validity of the results. For example, simply ignoring missing data (i.e., analyzing only the observed data) assumes that the observed available data are completely representative of the missing data, which requires that the missingness has no connection whatsoever with the outcomes you are interested in (this is called \"missing completely at random\", MCAR). This is very rarely the case."
   ]
  },
  {
   "cell_type": "markdown",
   "id": "1aa4ac63-000d-459c-90ea-534b0efbfb49",
   "metadata": {},
   "source": [
    "# Answer 8:\n",
    "After performing an ANOVA, it is common to use post-hoc tests to explore the differences between multiple group means while controlling the experiment-wise error rate. Some common post-hoc tests used after ANOVA include:\n",
    "\n",
    "1. **Tukey's Honestly Significant Difference (HSD)**: This test is commonly used when all groups have equal sample sizes.\n",
    "2. **Bonferroni**: This test adjusts the significance level to account for multiple comparisons.\n",
    "3. **Scheffe's**: This test is more conservative than other post-hoc tests and can be used for any number of groups and for any type of planned or unplanned comparison.\n",
    "\n",
    "An example of a situation where a post-hoc test might be necessary is when you have performed a one-way ANOVA with three or more groups and obtained a statistically significant result. This indicates that there is a significant difference between the group means, but it does not tell you which specific groups are different from each other. In this case, you could use a post-hoc test to determine which pairs of groups have significantly different means."
   ]
  },
  {
   "cell_type": "markdown",
   "id": "e499ba5c-4037-4098-9a9d-bb57d0078f64",
   "metadata": {},
   "source": [
    "# Answer 9:"
   ]
  },
  {
   "cell_type": "code",
   "execution_count": 3,
   "id": "cc18aa40-e117-408d-b1bf-79d3a0893c8f",
   "metadata": {},
   "outputs": [
    {
     "name": "stdout",
     "output_type": "stream",
     "text": [
      "F-statistic: 27.0\n",
      "p-value: 0.0010000000000000002\n"
     ]
    }
   ],
   "source": [
    "import pandas as pd\n",
    "from scipy.stats import f_oneway\n",
    "\n",
    "# sample data\n",
    "data = {'Diet': ['A', 'A', 'A', 'B', 'B', 'B', 'C', 'C', 'C'],\n",
    "        'WeightLoss': [3, 2, 1, 6, 5, 4, 7, 8, 9]}\n",
    "df = pd.DataFrame(data)\n",
    "\n",
    "# perform one-way ANOVA\n",
    "f_statistic, p_value = f_oneway(df[df['Diet'] == 'A']['WeightLoss'],\n",
    "                                 df[df['Diet'] == 'B']['WeightLoss'],\n",
    "                                 df[df['Diet'] == 'C']['WeightLoss'])\n",
    "\n",
    "# print results\n",
    "print('F-statistic:', f_statistic)\n",
    "print('p-value:', p_value)\n"
   ]
  },
  {
   "cell_type": "markdown",
   "id": "ab629706-9a4d-48bf-a44c-67b52d84c76c",
   "metadata": {},
   "source": [
    "This code uses the f_oneway function from the scipy.stats module to perform a one-way ANOVA on the sample data. The function returns the F-statistic and p-value for the test.\n",
    "\n",
    "Based on the F-statistic and p-value obtained from the ANOVA, you can determine whether there is a statistically significant difference between the mean weight loss of the three diets. If the p-value is less than your chosen significance level (e.g., 0.05), you can reject the null hypothesis and conclude that there is a significant difference between the means."
   ]
  },
  {
   "cell_type": "markdown",
   "id": "7b6a9846-66a7-421f-8c72-803fc8e233f9",
   "metadata": {},
   "source": [
    "# Answer 10:"
   ]
  },
  {
   "cell_type": "code",
   "execution_count": 4,
   "id": "7c86a66b-b267-4ae6-a802-12e92f73c388",
   "metadata": {},
   "outputs": [
    {
     "name": "stdout",
     "output_type": "stream",
     "text": [
      "                           df  sum_sq  mean_sq     F    PR(>F)\n",
      "C(Program)                2.0    54.0     27.0  54.0  0.004443\n",
      "C(Experience)             1.0     0.5      0.5   1.0  0.391002\n",
      "C(Program):C(Experience)  2.0     4.0      2.0   4.0  0.142427\n",
      "Residual                  3.0     1.5      0.5   NaN       NaN\n"
     ]
    }
   ],
   "source": [
    "import pandas as pd\n",
    "import statsmodels.api as sm\n",
    "from statsmodels.formula.api import ols\n",
    "\n",
    "# sample data\n",
    "data = {'Program': ['A', 'A', 'A', 'B', 'B', 'B', 'C', 'C', 'C'],\n",
    "        'Experience': ['Novice', 'Novice', 'Experienced', 'Novice', 'Novice', 'Experienced', 'Novice', 'Novice', 'Experienced'],\n",
    "        'Time': [3, 2, 1, 6, 5, 4, 7, 8, 9]}\n",
    "df = pd.DataFrame(data)\n",
    "\n",
    "# fit the model\n",
    "model = ols('Time ~ C(Program) + C(Experience) + C(Program):C(Experience)', data=df).fit()\n",
    "\n",
    "# perform ANOVA\n",
    "anova_results = sm.stats.anova_lm(model)\n",
    "\n",
    "# print results\n",
    "print(anova_results)\n"
   ]
  },
  {
   "cell_type": "markdown",
   "id": "db214ee0-3ed7-4380-a483-8f6145137821",
   "metadata": {},
   "source": [
    "This code uses the statsmodels library to fit a linear model with main effects for the Program and Experience factors and an interaction effect between Program and Experience. The anova_lm function is then used to perform a two-way ANOVA on the fitted model. The resulting ANOVA table shows the sum of squares, degrees of freedom, mean square, F-statistic, and p-value for each effect.\n",
    "\n",
    "Based on the F-statistics and p-values obtained from the ANOVA, you can determine whether there are any main effects or interaction effects between the software programs and employee experience level. If the p-value for a main effect or interaction effect is less than your chosen significance level (e.g., 0.05), you can reject the null hypothesis and conclude that there is a significant effect."
   ]
  },
  {
   "cell_type": "markdown",
   "id": "3224b52f-a35d-4499-9bc4-b93200c0d52b",
   "metadata": {},
   "source": [
    "# Answer 11:"
   ]
  },
  {
   "cell_type": "code",
   "execution_count": 5,
   "id": "c8e59de5-3b24-4b62-8a72-ca771b5163d2",
   "metadata": {},
   "outputs": [
    {
     "name": "stdout",
     "output_type": "stream",
     "text": [
      "t-statistic: -0.8219949365267865\n",
      "p-value: 0.43489229767474047\n"
     ]
    }
   ],
   "source": [
    "from scipy.stats import ttest_ind\n",
    "\n",
    "# sample data\n",
    "control = [90, 85, 80, 95, 70]\n",
    "experimental = [95, 90, 85, 100, 75]\n",
    "\n",
    "# perform two-sample t-test\n",
    "t_statistic, p_value = ttest_ind(control, experimental)\n",
    "\n",
    "# print results\n",
    "print('t-statistic:', t_statistic)\n",
    "print('p-value:', p_value)\n"
   ]
  },
  {
   "cell_type": "markdown",
   "id": "2113aff4-41e2-4fcd-b651-f308981338c5",
   "metadata": {},
   "source": [
    "Based on the t-statistic and p-value obtained from the t-test, you can determine whether there is a statistically significant difference between the mean test scores of the control and experimental groups. If the p-value is less than your chosen significance level (e.g., 0.05), you can reject the null hypothesis and conclude that there is a significant difference between the means.\n",
    "\n",
    "In this case, a post-hoc test is not necessary because there are only two groups. The t-test itself tells you whether there is a significant difference between the means of the two groups."
   ]
  },
  {
   "cell_type": "markdown",
   "id": "33d36c4b-aefc-4e20-9013-aee85d364ace",
   "metadata": {},
   "source": [
    "# Answer 12:"
   ]
  },
  {
   "cell_type": "code",
   "execution_count": 6,
   "id": "e585a2f9-99d0-4ed5-915f-b24d4bbb743b",
   "metadata": {},
   "outputs": [
    {
     "name": "stdout",
     "output_type": "stream",
     "text": [
      "             Anova\n",
      "================================\n",
      "    F Value Num DF Den DF Pr > F\n",
      "--------------------------------\n",
      "Day  4.0000 2.0000 4.0000 0.1111\n",
      "================================\n",
      "\n"
     ]
    }
   ],
   "source": [
    "import pandas as pd\n",
    "from statsmodels.stats.anova import AnovaRM\n",
    "\n",
    "# sample data\n",
    "data = {'Store': ['A', 'A', 'A', 'B', 'B', 'B', 'C', 'C', 'C'],\n",
    "        'Day': [1, 2, 3, 1, 2, 3, 1, 2, 3],\n",
    "        'Sales': [1000, 1200, 1100, 900, 950, 1000, 800, 850, 900]}\n",
    "df = pd.DataFrame(data)\n",
    "\n",
    "# fit the model\n",
    "model = AnovaRM(df, depvar='Sales', subject='Store', within=['Day'])\n",
    "fit = model.fit()\n",
    "\n",
    "# print results\n",
    "print(fit.summary())\n"
   ]
  },
  {
   "cell_type": "markdown",
   "id": "9fb6bb6a-7432-4db8-a09c-3aa28a47c64c",
   "metadata": {},
   "source": [
    "This code uses the AnovaRM class from the statsmodels.stats.anova module to fit a repeated measures ANOVA model to the sample data. The fit method is then used to perform the ANOVA and obtain the results. The resulting summary table shows the F-statistic and p-value for the test.\n",
    "\n",
    "Based on the F-statistic and p-value obtained from the ANOVA, you can determine whether there is a statistically significant difference in sales between the three stores. If the p-value is less than your chosen significance level (e.g., 0.05), you can reject the null hypothesis and conclude that there is a significant difference between the means.\n",
    "\n",
    "If the results are significant, you could follow up with a post-hoc test to determine which store(s) differ significantly from each other. One common post-hoc test for repeated measures ANOVA is Tukey’s Honestly Significant Difference (HSD) test."
   ]
  },
  {
   "cell_type": "code",
   "execution_count": null,
   "id": "5030b602-e997-40e3-96b7-5e4db572ab3f",
   "metadata": {},
   "outputs": [],
   "source": []
  }
 ],
 "metadata": {
  "kernelspec": {
   "display_name": "Python 3 (ipykernel)",
   "language": "python",
   "name": "python3"
  },
  "language_info": {
   "codemirror_mode": {
    "name": "ipython",
    "version": 3
   },
   "file_extension": ".py",
   "mimetype": "text/x-python",
   "name": "python",
   "nbconvert_exporter": "python",
   "pygments_lexer": "ipython3",
   "version": "3.10.8"
  }
 },
 "nbformat": 4,
 "nbformat_minor": 5
}
