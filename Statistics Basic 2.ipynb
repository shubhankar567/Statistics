{
 "cells": [
  {
   "cell_type": "markdown",
   "id": "f0359a26-5750-4357-9163-56bf45aa2b6d",
   "metadata": {},
   "source": [
    "# Answer 1:\n",
    "\n",
    "The three measures of central tendency are the **mean**, **median**, and **mode**. These measures help you find the middle or average of a dataset."
   ]
  },
  {
   "cell_type": "markdown",
   "id": "f1421bd4-992d-4142-a1c4-6a68d80ec407",
   "metadata": {},
   "source": [
    "# Answer 2:\n",
    "\n",
    "The **mean** is the simple arithmetic average of a list of numbers, found by adding the numbers and dividing the sum by the number of numbers in the list. The **median** is the middle value in a list ordered from smallest to largest. The **mode** is the most frequently occurring value on the list.\n",
    "\n",
    "These measures are used to find the central value of a dataset, which tends to describe where the data values typically fall. They help you understand a dataset much more quickly compared to simply looking at all of the individual values in the dataset. "
   ]
  },
  {
   "cell_type": "markdown",
   "id": "207d2a40-aba3-42d9-8e99-95d21ed20432",
   "metadata": {},
   "source": [
    "# Answer 3:"
   ]
  },
  {
   "cell_type": "code",
   "execution_count": 1,
   "id": "62f7ebd1-4868-4a41-bac9-cf1df0697c82",
   "metadata": {},
   "outputs": [
    {
     "name": "stdout",
     "output_type": "stream",
     "text": [
      "Mean: 177.01875\n",
      "Median: 177.0\n",
      "Mode: 178\n"
     ]
    }
   ],
   "source": [
    "from statistics import mean, median, mode\n",
    "\n",
    "heights = [178,177,176,177,178.2,178,175,179,180,175,178.9,176.2,177,172.5,178,176.5]\n",
    "\n",
    "mean_height = mean(heights)\n",
    "median_height = median(heights)\n",
    "mode_height = mode(heights)\n",
    "\n",
    "print(f\"Mean: {mean_height}\")\n",
    "print(f\"Median: {median_height}\")\n",
    "print(f\"Mode: {mode_height}\")\n"
   ]
  },
  {
   "cell_type": "markdown",
   "id": "ceae1f27-6592-4a73-8763-9a6744c45992",
   "metadata": {},
   "source": [
    "# Answer 4:"
   ]
  },
  {
   "cell_type": "code",
   "execution_count": 2,
   "id": "44e40f1d-4e27-404c-8eac-fe0b76b59f1d",
   "metadata": {},
   "outputs": [
    {
     "name": "stdout",
     "output_type": "stream",
     "text": [
      "Standard Deviation: 1.8472389305844188\n"
     ]
    }
   ],
   "source": [
    "from statistics import stdev\n",
    "\n",
    "heights = [178,177,176,177,178.2,178,175,179,180,175,178.9,176.2,177,172.5,178,176.5]\n",
    "\n",
    "std_height = stdev(heights)\n",
    "\n",
    "print(f'Standard Deviation: {std_height}')"
   ]
  },
  {
   "cell_type": "markdown",
   "id": "db77db9c-60aa-40d9-b7d6-1b165f428a13",
   "metadata": {},
   "source": [
    "# Answer 5:\n",
    "\n",
    "Measures of dispersion such as range, variance, and standard deviation are used to describe the spread or variability of a dataset in different ways. The **range** is easy to calculate—it's the difference between the largest and smallest data points in a set¹. The **variance** is the average of the squared differences between each data point and the mean. The **standard deviation** is the square root of the variance and is a measure of how spread out the data is from its mean.\n",
    "\n",
    "For example, let's say we have a dataset of test scores: [85, 90, 95, 100]. The range of this dataset is 100 - 85 = 15. The mean of this dataset is (85 + 90 + 95 + 100) / 4 = 92.5. The variance is calculated by finding the squared differences between each data point and the mean: (85 - 92.5)^2 + (90 - 92.5)^2 + (95 - 92.5)^2 + (100 - 92.5)^2 = 56.25, then dividing by the number of data points: 56.25 / 4 = 14.0625. The standard deviation is the square root of the variance: sqrt(14.0625) = 3.75.\n",
    "\n",
    "These measures provide information on how spread out or clustered the data values are in a dataset."
   ]
  },
  {
   "cell_type": "markdown",
   "id": "f8c53cb1-dabf-4429-b9ad-49d67fcaf22f",
   "metadata": {},
   "source": [
    "# Answer 6:\n",
    "\n",
    "A **Venn diagram** is a widely used diagram style that shows the logical relation between sets. It is a diagram that shows all possible logical relations between a finite collection of different sets. These diagrams depict elements as points in the plane, and sets as regions inside closed curves. A Venn diagram consists of multiple overlapping closed curves, usually circles, each representing a set.\n",
    "\n",
    "Venn diagrams are used to teach elementary set theory and to illustrate simple set relationships in probability, logic, statistics, linguistics and computer science. They are also called set diagrams or logic diagrams."
   ]
  },
  {
   "cell_type": "markdown",
   "id": "c4ef08e2-9dae-4df3-bcc9-bad8c06a0c25",
   "metadata": {},
   "source": [
    "# Answer 7"
   ]
  },
  {
   "cell_type": "code",
   "execution_count": 3,
   "id": "3fb51b58-3611-4826-ad3c-f5d46cbba29c",
   "metadata": {},
   "outputs": [
    {
     "name": "stdout",
     "output_type": "stream",
     "text": [
      "A intersection B: {2, 6}\n",
      "A union B: {0, 2, 3, 4, 5, 6, 7, 8, 10}\n"
     ]
    }
   ],
   "source": [
    "A = {2,3,4,5,6,7}\n",
    "B = {0,2,6,8,10}\n",
    "\n",
    "intersection = A.intersection(B)\n",
    "union = A.union(B)\n",
    "\n",
    "print(f\"A intersection B: {intersection}\")\n",
    "print(f\"A union B: {union}\")\n"
   ]
  },
  {
   "cell_type": "markdown",
   "id": "0d3b229d-ee3e-4240-8696-825d2c26a852",
   "metadata": {},
   "source": [
    "# Answer 8:\n",
    "\n",
    "Skewness is a measure of the asymmetry of a statistical distribution. It occurs when the curve appears distorted or skewed either to the left or to the right. Skewness can be quantified to define the extent to which a distribution differs from a normal distribution.\n",
    "\n",
    "A given distribution can be either skewed to the left or the right. Skewness risk occurs when a symmetric distribution is applied to the skewed data. Skewness is an important concept in statistics as it helps describe the shape of a dataset and can impact data analysis."
   ]
  },
  {
   "cell_type": "markdown",
   "id": "118963e5-2358-48a6-99e2-cbdd0be3c83d",
   "metadata": {},
   "source": [
    "# Answer 9:\n",
    "\n",
    "In a right-skewed distribution, the mean is almost always greater than the median because extreme values in the tail affect the mean more than the median. The more skewed the distribution, the greater the difference between the median and mean, and the greater emphasis should be placed on using the median as opposed to the mean. In a right-skewed distribution, the mode is often less than the median, which is less than the mean."
   ]
  },
  {
   "cell_type": "markdown",
   "id": "8152d5ec-f6a6-411b-8a7c-a9b357389ff5",
   "metadata": {},
   "source": [
    "# Answer 10:\n",
    "\n",
    "Covariance and correlation coefficient are both used to measure the relationship between two variables. Covariance only indicates the direction of the linear relationship (positive, negative, or neutral), while correlation coefficient also indicates the strength of the linear relationship and ranges from -1 to +1. Correlation coefficient is a function of the covariance and can be obtained by dividing the covariance by the product of the standard deviations of the variables.\n",
    "\n",
    "These measures are used in statistical analysis to understand the relationship between two variables. Covariance reveals how two variables change together while correlation determines how closely two variables are related to each other. They can be used to select, add or alter variables for predictive modeling, insight generation or even storytelling using data."
   ]
  },
  {
   "cell_type": "markdown",
   "id": "a480fdca-bd84-4e41-baf7-d2ab64576625",
   "metadata": {},
   "source": [
    "# Answer 11:\n",
    "\n",
    "The formula for calculating the sample mean is:\n",
    "\n",
    "$$\\bar{x} = \\frac{\\sum_{i=1}^{n}x_i}{n}$$\n",
    "\n",
    "where $\\bar{x}$ is the sample mean, $x_i$ is the $i^{th}$ value in the sample, and $n$ is the sample size.\n",
    "\n",
    "For example, let's say we have a dataset of five test scores: [85, 90, 95, 100, 105]. To calculate the sample mean for this dataset, we would first sum all of the values in the dataset: 85 + 90 + 95 + 100 + 105 = 475. Then we would divide this sum by the number of values in the dataset: 475 / 5 = 95. Therefore, the sample mean for this dataset is 95."
   ]
  },
  {
   "cell_type": "markdown",
   "id": "437305c5-c891-477c-8b7e-8aae1fe78b91",
   "metadata": {},
   "source": [
    "# Answer 12:\n",
    "\n",
    "For a normal distribution, the mean, median, and mode are all equal. This is because a normal distribution is symmetrical around its mean. The mean is the arithmetic average of the data, the median is the middle value when the data is arranged in ascending order, and the mode is the most frequently occurring value in the dataset. Since a normal distribution is symmetrical, these three measures of central tendency all coincide at the center of the distribution."
   ]
  },
  {
   "cell_type": "markdown",
   "id": "d848e195-b5af-420e-b89e-00e1a33c6c00",
   "metadata": {},
   "source": [
    "# Answer 13:\n",
    "\n",
    "Covariance and correlation are both measures of the relationship between two variables. Covariance measures the degree to which two variables change together. If the covariance is positive, it means that as one variable increases, the other variable also tends to increase. If the covariance is negative, it means that as one variable increases, the other variable tends to decrease.\n",
    "\n",
    "Correlation, on the other hand, measures both the strength and direction of the linear relationship between two variables. The correlation coefficient ranges from -1 to +1. A correlation of +1 indicates a perfect positive linear relationship between the two variables, while a correlation of -1 indicates a perfect negative linear relationship. A correlation of 0 indicates no linear relationship between the two variables.\n",
    "\n",
    "The main difference between covariance and correlation is that correlation is a standardized measure while covariance is not. This means that the correlation coefficient is always between -1 and +1, while the covariance can take on any value. Correlation is also independent of the scale of the variables, while covariance is not. This makes correlation a more useful measure when comparing relationships between variables measured on different scales."
   ]
  },
  {
   "cell_type": "markdown",
   "id": "5290ca42-a413-40fb-b92f-5421ecc070d8",
   "metadata": {},
   "source": [
    "# Answer 14:\n",
    "\n",
    "Outliers are extreme values that can significantly affect measures of central tendency and dispersion. The mean and standard deviation are particularly sensitive to outliers because they take into account the magnitude of each value in the dataset. The median and interquartile range (IQR) are more robust to outliers because they only depend on the relative position of the values in the dataset.\n",
    "\n",
    "For example, let's say we have a dataset of five test scores: [85, 90, 95, 100, 105]. The mean of this dataset is 95 and the standard deviation is approximately 7.07. Now let's say we add an outlier to this dataset: [85, 90, 95, 100, 105, 200]. The mean of this new dataset is now approximately 112.5 and the standard deviation is approximately 38.43. As you can see, the addition of a single outlier has significantly increased both the mean and standard deviation.\n",
    "\n",
    "On the other hand, the median and IQR are less affected by outliers. The median of the original dataset is 95 and the IQR is 10. The median of the new dataset with the outlier is still 95 and the IQR is still 10. As you can see, these measures are more robust to outliers because they only depend on the relative position of the values in the dataset."
   ]
  },
  {
   "cell_type": "code",
   "execution_count": null,
   "id": "57758e61-c261-4347-a04f-ed94844e9ea9",
   "metadata": {},
   "outputs": [],
   "source": []
  }
 ],
 "metadata": {
  "kernelspec": {
   "display_name": "Python 3 (ipykernel)",
   "language": "python",
   "name": "python3"
  },
  "language_info": {
   "codemirror_mode": {
    "name": "ipython",
    "version": 3
   },
   "file_extension": ".py",
   "mimetype": "text/x-python",
   "name": "python",
   "nbconvert_exporter": "python",
   "pygments_lexer": "ipython3",
   "version": "3.10.8"
  }
 },
 "nbformat": 4,
 "nbformat_minor": 5
}
