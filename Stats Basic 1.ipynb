{
 "cells": [
  {
   "cell_type": "markdown",
   "id": "c03db348-121a-43b8-8625-e14721caa139",
   "metadata": {},
   "source": [
    "# Answer 1:\n",
    "\n",
    "Statistics is the practice or science of collecting and analyzing numerical data in large quantities, especially for the purpose of inferring proportions in a whole from those in a representative sample. It is a branch of mathematics dealing with the collection, analysis, interpretation, and presentation of masses of numerical data."
   ]
  },
  {
   "cell_type": "markdown",
   "id": "9ecc7f25-2aa3-43b8-bae7-2c7a7abcbaf9",
   "metadata": {},
   "source": [
    "# Answer 2:\n",
    "\n",
    "There are two main types of statistics: **descriptive statistics** and **inferential statistics**.\n",
    "\n",
    "**Descriptive statistics** is the practice of summarizing and describing data. It includes methods such as calculating measures of central tendency (mean, median, mode), measures of dispersion (range, variance, standard deviation), and creating visual representations of data such as histograms, pie charts, and bar graphs. Descriptive statistics can be used to summarize data from a sample or population. For example, a company might use descriptive statistics to summarize employee satisfaction survey data.\n",
    "\n",
    "**Inferential statistics**, on the other hand, is used to make conclusions about a population based on a sample of data. It includes methods such as hypothesis testing, confidence intervals, and regression analysis. Inferential statistics can be used to make predictions about a population based on sample data. For example, a medical researcher might use inferential statistics to determine if a new drug is effective in treating a disease by analyzing the results of a clinical trial."
   ]
  },
  {
   "cell_type": "markdown",
   "id": "62212b52-6e3b-404a-b2c7-542715810413",
   "metadata": {},
   "source": [
    "# Answer 3:\n",
    "\n",
    "There are two main types of data: **qualitative** and **quantitative**. Qualitative data is non-numerical and describes qualities or characteristics, while quantitative data is numerical and describes quantities or measurements.\n",
    "\n",
    "Qualitative data can be further classified into two subtypes: **nominal** and **ordinal**. Nominal data consists of categories with no inherent order, such as gender or hair color. For example, a survey might ask respondents to indicate their gender as male, female, or non-binary. Ordinal data consists of categories with a specific order, such as education level or income bracket. For example, a survey might ask respondents to indicate their highest level of education as less than high school, high school graduate, some college, college graduate, or postgraduate degree.\n",
    "\n",
    "Quantitative data can also be further classified into two subtypes: **discrete** and **continuous**. Discrete data consists of countable values, such as the number of children in a family or the number of cars in a parking lot. Continuous data consists of values that can take on any value within a range, such as height or weight. For example, a person's height could be measured as 5'6\" or 5'6.5\"."
   ]
  },
  {
   "cell_type": "markdown",
   "id": "5bb02077-d9ed-4a37-bd48-01ebae72c164",
   "metadata": {},
   "source": [
    "# Answer 4:\n",
    "\n",
    "(i) Grading in exam: A+, A, B+, B, C+, C, D, E - This is an example of **ordinal** data, which is a subtype of **qualitative** data. The grades are categories with a specific order.\n",
    "\n",
    "(ii) Colour of mangoes: yellow, green, orange, red - This is an example of **nominal** data, which is a subtype of **qualitative** data. The colors are categories with no inherent order.\n",
    "\n",
    "(iii) Height data of a class: [178.9, 179, 179.5, 176, 177.2, 178.3, 175.8,...] - This is an example of **continuous** data, which is a subtype of **quantitative** data. The heights are numerical values that can take on any value within a range.\n",
    "\n",
    "(iv) Number of mangoes exported by a farm: [500, 600, 478, 672,...] - This is an example of **discrete** data, which is a subtype of **quantitative** data. The number of mangoes exported are countable values."
   ]
  },
  {
   "cell_type": "markdown",
   "id": "7364a586-5402-41f0-9b42-e03c2ec93c06",
   "metadata": {},
   "source": [
    "# Answer 5:\n",
    "\n",
    "Levels of measurement, also known as scales of measurement, indicate the precision with which variables are recorded. There are four levels of measurement: **nominal**, **ordinal**, **interval**, and **ratio**¹.\n",
    "\n",
    "**Nominal** level of measurement is used for variables that can be placed into categories, but the categories do not have any inherent order. An example of a nominal variable is hair color (e.g., blonde, brown, black, red).\n",
    "\n",
    "**Ordinal** level of measurement is used for variables that can be placed into categories that have a specific order. An example of an ordinal variable is education level (e.g., less than high school, high school graduate, some college, college graduate, postgraduate degree).\n",
    "\n",
    "**Interval** level of measurement is used for variables that have a numerical scale with equal intervals between values, but no true zero point. An example of an interval variable is temperature measured in degrees Celsius or Fahrenheit.\n",
    "\n",
    "**Ratio** level of measurement is used for variables that have a numerical scale with equal intervals between values and a true zero point. An example of a ratio variable is height or weight.\n"
   ]
  },
  {
   "cell_type": "markdown",
   "id": "f72793c4-1e50-49b2-8147-5a79a028b483",
   "metadata": {},
   "source": [
    "# Answer 6:\n",
    "\n",
    "It is important to understand the level of measurement when analyzing data because it determines the type of statistical analysis that can be performed on the data. Different levels of measurement have different properties and require different statistical techniques.\n",
    "\n",
    "For example, if you have nominal data, you can use measures of frequency such as counts and percentages to summarize the data. You can also use chi-square tests to determine if there is an association between two nominal variables. However, you cannot use measures of central tendency such as mean or median, or measures of dispersion such as variance or standard deviation, because these measures require numerical data.\n",
    "\n",
    "On the other hand, if you have interval or ratio data, you can use measures of central tendency and dispersion to summarize the data. You can also use t-tests or ANOVA to compare means between groups.\n",
    "\n",
    "Here's an example to illustrate this point: Suppose you have collected data on the income levels of a sample of individuals. Income is a ratio variable because it has a true zero point (an income of $0 means no income). You could calculate the mean and median income for the sample, as well as the range and standard deviation. You could also use a t-test to compare the mean income between two groups (e.g., men and women) or ANOVA to compare the mean income between more than two groups (e.g., different age groups).\n",
    "\n"
   ]
  },
  {
   "cell_type": "markdown",
   "id": "973aa7b1-1562-47de-9aeb-a73bb59a97d1",
   "metadata": {},
   "source": [
    "# Answer 7:\n",
    "\n",
    "Nominal and ordinal data types are both subtypes of qualitative data. The main difference between them is that nominal data consists of categories with no inherent order, while ordinal data consists of categories with a specific order.\n",
    "\n",
    "**Nominal data** is used to label variables without any quantitative value. The categories are mutually exclusive and there is no order or structure to the categories. For example, gender (male, female, non-binary) and hair color (blonde, brown, black, red) are both nominal variables. There is no way to rank or order these categories from highest to lowest or best to worst.\n",
    "\n",
    "**Ordinal data**, on the other hand, consists of categories that can be ranked or ordered. The categories have a specific order or hierarchy, but the intervals between the categories may not be equal. For example, education level (less than high school, high school graduate, some college, college graduate, postgraduate degree) and income bracket (low income, middle income, high income) are both ordinal variables. These categories can be ranked from lowest to highest or best to worst."
   ]
  },
  {
   "cell_type": "markdown",
   "id": "fbb88f44-bbfe-4583-9a0c-ae7051de59e6",
   "metadata": {},
   "source": [
    "# Answer 8:\n",
    "\n",
    "A box plot (also known as a box-and-whisker plot) is a type of plot that can be used to display data in terms of range. A box plot shows the distribution of a dataset by displaying the median, quartiles, and range of the data. The box represents the interquartile range (IQR), which contains the middle 50% of the data. The whiskers extend from the box to the smallest and largest observations that are within 1.5 times the IQR. Any observations outside this range are plotted as individual points and are considered outliers."
   ]
  },
  {
   "cell_type": "markdown",
   "id": "dee610fa-20cd-4786-9887-51016a6ef7bc",
   "metadata": {},
   "source": [
    "# Answer 9:\n",
    "\n",
    "Descriptive and inferential statistics are two broad categories of statistical analysis.\n",
    "\n",
    "**Descriptive statistics** is the practice of summarizing and describing data. It includes methods such as calculating measures of central tendency (mean, median, mode), measures of dispersion (range, variance, standard deviation), and creating visual representations of data such as histograms, pie charts, and bar graphs. Descriptive statistics can be used to summarize data from a sample or population. For example, a company might use descriptive statistics to summarize employee satisfaction survey data. The company could calculate the mean, median, and mode of the survey responses, as well as create a histogram to show the distribution of responses.\n",
    "\n",
    "**Inferential statistics**, on the other hand, is used to make conclusions about a population based on a sample of data. It includes methods such as hypothesis testing, confidence intervals, and regression analysis. Inferential statistics can be used to make predictions about a population based on sample data. For example, a medical researcher might use inferential statistics to determine if a new drug is effective in treating a disease by analyzing the results of a clinical trial. The researcher could use a t-test to compare the mean recovery time for patients who received the new drug versus those who received a placebo."
   ]
  },
  {
   "cell_type": "markdown",
   "id": "90056d35-31be-45b9-96a8-14e4b7375d38",
   "metadata": {},
   "source": [
    "# Answer 10:\n",
    "\n",
    "Measures of central tendency and variability are commonly used in statistics to describe the distribution of a dataset.\n",
    "\n",
    "**Measures of central tendency** describe the center or typical value of a dataset. The most common measures of central tendency are the mean, median, and mode. The **mean** is the arithmetic average of the data and is calculated by summing all the values in the dataset and dividing by the number of values. The **median** is the middle value when the data is arranged in ascending order. If there is an even number of values, the median is the average of the two middle values. The **mode** is the value that occurs most frequently in the dataset.\n",
    "\n",
    "**Measures of variability** describe how spread out or dispersed the data is. The most common measures of variability are the range, variance, and standard deviation. The **range** is the difference between the largest and smallest values in the dataset. The **variance** is the average of the squared differences between each value and the mean. The **standard deviation** is the square root of the variance and is measured in the same units as the data.\n",
    "\n",
    "These measures can be used to describe a dataset by providing information about its central tendency and variability. For example, if you have a dataset of test scores, you could calculate the mean to find out what the average test score was. You could also calculate the range to see how spread out the test scores were. If you wanted to know how much individual test scores varied from the mean, you could calculate the variance or standard deviation."
   ]
  },
  {
   "cell_type": "code",
   "execution_count": null,
   "id": "9b53d890-165d-4569-80bd-bcf1aeb18252",
   "metadata": {},
   "outputs": [],
   "source": []
  }
 ],
 "metadata": {
  "kernelspec": {
   "display_name": "Python 3 (ipykernel)",
   "language": "python",
   "name": "python3"
  },
  "language_info": {
   "codemirror_mode": {
    "name": "ipython",
    "version": 3
   },
   "file_extension": ".py",
   "mimetype": "text/x-python",
   "name": "python",
   "nbconvert_exporter": "python",
   "pygments_lexer": "ipython3",
   "version": "3.10.8"
  }
 },
 "nbformat": 4,
 "nbformat_minor": 5
}
