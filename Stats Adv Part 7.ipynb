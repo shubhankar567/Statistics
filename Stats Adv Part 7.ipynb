{
 "cells": [
  {
   "cell_type": "markdown",
   "id": "dc07f3ee-dabc-4202-8595-1a690710f03f",
   "metadata": {},
   "source": [
    "# Answer 1:\n",
    "Here is a Python function that takes in two arrays of data and calculates the F-value for a variance ratio test. The function returns the F-value and the corresponding p-value for the test:\n",
    "\n",
    "```python\n",
    "from scipy import stats\n",
    "\n",
    "def f_test(x, y):\n",
    "    \"\"\"\n",
    "    Perform an F-test on two sets of data.\n",
    "    \n",
    "    Parameters:\n",
    "    x (array): first set of data\n",
    "    y (array): second set of data\n",
    "    \n",
    "    Returns:\n",
    "    f_value (float): F-value for the test\n",
    "    p_value (float): p-value for the test\n",
    "    \"\"\"\n",
    "    f_value, p_value = stats.f_oneway(x, y)\n",
    "    return f_value, p_value\n",
    "```\n",
    "\n",
    "This function uses the `f_oneway` function from the `scipy.stats` module to perform a one-way ANOVA test on the two input arrays. The F-value and p-value are returned as a tuple."
   ]
  },
  {
   "cell_type": "markdown",
   "id": "b51e04f1-fabc-4d4e-9399-2f390ad9723d",
   "metadata": {},
   "source": [
    "# Answer 2:\n",
    "Here is a Python function that takes in a significance level and the degrees of freedom for the numerator and denominator of an F-distribution and returns the critical F-value for a two-tailed test:\n",
    "\n",
    "```python\n",
    "from scipy.stats import f\n",
    "\n",
    "def f_critical(alpha, dfn, dfd):\n",
    "    \"\"\"\n",
    "    Calculate the critical F-value for a two-tailed test.\n",
    "    \n",
    "    Parameters:\n",
    "    alpha (float): significance level\n",
    "    dfn (int): degrees of freedom for the numerator\n",
    "    dfd (int): degrees of freedom for the denominator\n",
    "    \n",
    "    Returns:\n",
    "    f_crit (float): critical F-value\n",
    "    \"\"\"\n",
    "    f_crit = f.ppf(1 - alpha/2, dfn, dfd)\n",
    "    return f_crit\n",
    "```\n",
    "\n",
    "This function uses the `ppf` function from the `scipy.stats.f` module to calculate the critical F-value. The `ppf` function calculates the inverse cumulative distribution function for a given probability and degrees of freedom. The critical F-value is calculated as the F-value that corresponds to a probability of `1 - alpha/2`, where `alpha` is the significance level."
   ]
  },
  {
   "cell_type": "markdown",
   "id": "be26d478-0e17-424a-8c23-ed5822394ab5",
   "metadata": {},
   "source": [
    "# Answer 3:\n",
    "Here is a Python program that generates random samples from two normal distributions with known variances and uses an F-test to determine if the variances are equal. The program outputs the F-value, degrees of freedom, and p-value for the test:\n",
    "\n",
    "```python\n",
    "import numpy as np\n",
    "from scipy.stats import f\n",
    "\n",
    "# Set the parameters for the normal distributions\n",
    "mu1 = 0\n",
    "sigma1 = 1\n",
    "mu2 = 0\n",
    "sigma2 = 2\n",
    "\n",
    "# Set the sample size\n",
    "n1 = 100\n",
    "n2 = 100\n",
    "\n",
    "# Generate random samples from the normal distributions\n",
    "x = np.random.normal(mu1, sigma1, n1)\n",
    "y = np.random.normal(mu2, sigma2, n2)\n",
    "\n",
    "# Calculate the sample variances\n",
    "s1 = np.var(x, ddof=1)\n",
    "s2 = np.var(y, ddof=1)\n",
    "\n",
    "# Calculate the F-value\n",
    "f_value = s1 / s2\n",
    "\n",
    "# Calculate the degrees of freedom\n",
    "dfn = n1 - 1\n",
    "dfd = n2 - 1\n",
    "\n",
    "# Calculate the p-value\n",
    "p_value = 2 * min(f.cdf(f_value, dfn, dfd), 1 - f.cdf(f_value, dfn, dfd))\n",
    "\n",
    "# Output the results\n",
    "print(\"F-value:\", f_value)\n",
    "print(\"Degrees of freedom:\", (dfn, dfd))\n",
    "print(\"p-value:\", p_value)\n",
    "```\n",
    "\n",
    "This program uses the `normal` function from the `numpy.random` module to generate random samples from two normal distributions with specified means and standard deviations. The sample variances are calculated using the `var` function from the `numpy` module with `ddof=1` to use the unbiased estimator. The F-value is calculated as the ratio of the sample variances. The degrees of freedom are calculated as `n-1` for each sample. The p-value is calculated using the `cdf` function from the `scipy.stats.f` module to calculate the cumulative distribution function for the F-distribution with the calculated degrees of freedom. The p-value is calculated as twice the minimum of the probability of observing an F-value less than or equal to the calculated F-value and the probability of observing an F-value greater than or equal to the calculated F-value."
   ]
  },
  {
   "cell_type": "markdown",
   "id": "1905ad08-922d-4688-9b7d-9f4e7ead1c8b",
   "metadata": {},
   "source": [
    "# Answer 4:"
   ]
  },
  {
   "cell_type": "code",
   "execution_count": 1,
   "id": "884dd7b4-4ea0-41d7-9f4e-b1f0c473caf3",
   "metadata": {},
   "outputs": [
    {
     "name": "stdout",
     "output_type": "stream",
     "text": [
      "The variances are not significantly different at the 0.05 significance level.\n"
     ]
    }
   ],
   "source": [
    "from scipy.stats import f\n",
    "\n",
    "# Set the population variances\n",
    "var1 = 10\n",
    "var2 = 15\n",
    "\n",
    "# Set the sample size\n",
    "n1 = 12\n",
    "n2 = 12\n",
    "\n",
    "# Calculate the F-value\n",
    "f_value = var2 / var1\n",
    "\n",
    "# Calculate the degrees of freedom\n",
    "dfn = n1 - 1\n",
    "dfd = n2 - 1\n",
    "\n",
    "# Set the significance level\n",
    "alpha = 0.05\n",
    "\n",
    "# Calculate the critical value for a two-tailed test\n",
    "f_crit = f.ppf(1 - alpha/2, dfn, dfd)\n",
    "\n",
    "# Conduct the F-test\n",
    "if f_value > f_crit:\n",
    "    print(\"The variances are significantly different at the\", alpha, \"significance level.\")\n",
    "else:\n",
    "    print(\"The variances are not significantly different at the\", alpha, \"significance level.\")\n"
   ]
  },
  {
   "cell_type": "markdown",
   "id": "6934b870-6425-487c-b58a-a1c703043dd3",
   "metadata": {},
   "source": [
    "# Answer 5:"
   ]
  },
  {
   "cell_type": "code",
   "execution_count": 1,
   "id": "d3632559-dc16-48d5-bff3-e99bf5afd9f1",
   "metadata": {},
   "outputs": [
    {
     "name": "stdout",
     "output_type": "stream",
     "text": [
      "The claim is justified at the 0.01 significance level.\n"
     ]
    }
   ],
   "source": [
    "from scipy.stats import f\n",
    "\n",
    "# Set the claimed population variance\n",
    "var_claimed = 0.005\n",
    "\n",
    "# Set the sample variance\n",
    "s2 = 0.006\n",
    "\n",
    "# Set the sample size\n",
    "n = 25\n",
    "\n",
    "# Calculate the F-value\n",
    "f_value = s2 / var_claimed\n",
    "\n",
    "# Calculate the degrees of freedom for the numerator\n",
    "dfn = n - 1\n",
    "\n",
    "# Set the significance level\n",
    "alpha = 0.01\n",
    "\n",
    "# Calculate the critical value for a one-tailed test\n",
    "f_crit = f.ppf(1 - alpha, dfn, dfn)\n",
    "\n",
    "# Conduct the F-test\n",
    "if f_value > f_crit:\n",
    "    print(\"The claim is not justified at the\", alpha, \"significance level.\")\n",
    "else:\n",
    "    print(\"The claim is justified at the\", alpha, \"significance level.\")\n"
   ]
  },
  {
   "cell_type": "markdown",
   "id": "7c5d62f2-f029-407c-99e7-396d42e52364",
   "metadata": {},
   "source": [
    "# Answer 6:"
   ]
  },
  {
   "cell_type": "markdown",
   "id": "e52c2b8d-36ee-44a4-80e7-126a036512c3",
   "metadata": {},
   "source": [
    "Here is a Python function that takes in the degrees of freedom for the numerator and denominator of an F-distribution and calculates the mean and variance of the distribution. The function returns the mean and variance as a tuple:\n",
    "\n",
    "```python\n",
    "from scipy.stats import f\n",
    "\n",
    "def f_mean_variance(dfn, dfd):\n",
    "    \"\"\"\n",
    "    Calculate the mean and variance of an F-distribution.\n",
    "    \n",
    "    Parameters:\n",
    "    dfn (int): degrees of freedom for the numerator\n",
    "    dfd (int): degrees of freedom for the denominator\n",
    "    \n",
    "    Returns:\n",
    "    mean (float): mean of the F-distribution\n",
    "    variance (float): variance of the F-distribution\n",
    "    \"\"\"\n",
    "    # Calculate the mean\n",
    "    if dfd > 2:\n",
    "        mean = dfd / (dfd - 2)\n",
    "    else:\n",
    "        mean = float('nan')\n",
    "    \n",
    "    # Calculate the variance\n",
    "    if dfd > 4:\n",
    "        numerator = 2 * dfd**2 * (dfn + dfd - 2)\n",
    "        denominator = dfn * (dfd - 2)**2 * (dfd - 4)\n",
    "        variance = numerator / denominator\n",
    "    else:\n",
    "        variance = float('nan')\n",
    "    \n",
    "    return mean, variance\n",
    "```\n",
    "\n",
    "This function uses the formulas for the mean and variance of an F-distribution to calculate these values. The mean is calculated as `dfd / (dfd - 2)` if `dfd > 2`, otherwise it is undefined. The variance is calculated as `2 * dfd**2 * (dfn + dfd - 2) / (dfn * (dfd - 2)**2 * (dfd - 4))` if `dfd > 4`, otherwise it is undefined. The calculated mean and variance are returned as a tuple."
   ]
  },
  {
   "cell_type": "markdown",
   "id": "439c01ea-ed87-4d2c-a9aa-f498f266ea95",
   "metadata": {},
   "source": [
    "# Answer 7:"
   ]
  },
  {
   "cell_type": "code",
   "execution_count": 3,
   "id": "14d1fed2-1d26-4576-8a61-f39e89c636bb",
   "metadata": {},
   "outputs": [
    {
     "name": "stdout",
     "output_type": "stream",
     "text": [
      "The variances are not significantly different at the 0.1 significance level.\n"
     ]
    }
   ],
   "source": [
    "from scipy.stats import f\n",
    "\n",
    "# Set the sample variances\n",
    "s21 = 25\n",
    "s22 = 20\n",
    "\n",
    "# Set the sample sizes\n",
    "n1 = 10\n",
    "n2 = 15\n",
    "\n",
    "# Calculate the F-value\n",
    "f_value = s21 / s22\n",
    "\n",
    "# Calculate the degrees of freedom\n",
    "dfn = n1 - 1\n",
    "dfd = n2 - 1\n",
    "\n",
    "# Set the significance level\n",
    "alpha = 0.10\n",
    "\n",
    "# Calculate the critical value for a two-tailed test\n",
    "f_crit = f.ppf(1 - alpha/2, dfn, dfd)\n",
    "\n",
    "# Conduct the F-test\n",
    "if f_value > f_crit:\n",
    "    print(\"The variances are significantly different at the\", alpha, \"significance level.\")\n",
    "else:\n",
    "    print(\"The variances are not significantly different at the\", alpha, \"significance level.\")\n"
   ]
  },
  {
   "cell_type": "markdown",
   "id": "712e2521-9f58-4fe2-9fda-d37a5a902847",
   "metadata": {},
   "source": [
    "# Answer 8:"
   ]
  },
  {
   "cell_type": "code",
   "execution_count": 4,
   "id": "b87fc184-5b93-4eab-88dd-1855ba14c215",
   "metadata": {},
   "outputs": [
    {
     "name": "stdout",
     "output_type": "stream",
     "text": [
      "The variances are not significantly different at the 0.05 significance level.\n"
     ]
    }
   ],
   "source": [
    "import numpy as np\n",
    "from scipy.stats import f\n",
    "\n",
    "# Set the sample data\n",
    "x = np.array([24, 25, 28, 23, 22, 20, 27])\n",
    "y = np.array([31, 33, 35, 30, 32, 36])\n",
    "\n",
    "# Calculate the sample variances\n",
    "s2x = np.var(x, ddof=1)\n",
    "s2y = np.var(y, ddof=1)\n",
    "\n",
    "# Calculate the F-value\n",
    "f_value = s2x / s2y\n",
    "\n",
    "# Calculate the degrees of freedom\n",
    "dfn = len(x) - 1\n",
    "dfd = len(y) - 1\n",
    "\n",
    "# Set the significance level\n",
    "alpha = 0.05\n",
    "\n",
    "# Calculate the critical value for a two-tailed test\n",
    "f_crit = f.ppf(1 - alpha/2, dfn, dfd)\n",
    "\n",
    "# Conduct the F-test\n",
    "if f_value > f_crit:\n",
    "    print(\"The variances are significantly different at the\", alpha, \"significance level.\")\n",
    "else:\n",
    "    print(\"The variances are not significantly different at the\", alpha, \"significance level.\")\n"
   ]
  },
  {
   "cell_type": "markdown",
   "id": "c14de984-6a47-41a9-b35c-ea0ca26abfa6",
   "metadata": {},
   "source": [
    "# Answer 9:"
   ]
  },
  {
   "cell_type": "code",
   "execution_count": 5,
   "id": "73606e1b-77b6-441c-bbb8-1e0abe0a49a0",
   "metadata": {},
   "outputs": [
    {
     "name": "stdout",
     "output_type": "stream",
     "text": [
      "The variances are not significantly different at the 0.01 significance level.\n"
     ]
    }
   ],
   "source": [
    "import numpy as np\n",
    "from scipy.stats import f\n",
    "\n",
    "# Set the sample data\n",
    "x = np.array([80, 85, 90, 92, 87, 83])\n",
    "y = np.array([75, 78, 82, 79, 81, 84])\n",
    "\n",
    "# Calculate the sample variances\n",
    "s2x = np.var(x, ddof=1)\n",
    "s2y = np.var(y, ddof=1)\n",
    "\n",
    "# Calculate the F-value\n",
    "f_value = s2x / s2y\n",
    "\n",
    "# Calculate the degrees of freedom\n",
    "dfn = len(x) - 1\n",
    "dfd = len(y) - 1\n",
    "\n",
    "# Set the significance level\n",
    "alpha = 0.01\n",
    "\n",
    "# Calculate the critical value for a two-tailed test\n",
    "f_crit = f.ppf(1 - alpha/2, dfn, dfd)\n",
    "\n",
    "# Conduct the F-test\n",
    "if f_value > f_crit:\n",
    "    print(\"The variances are significantly different at the\", alpha, \"significance level.\")\n",
    "else:\n",
    "    print(\"The variances are not significantly different at the\", alpha, \"significance level.\")\n"
   ]
  },
  {
   "cell_type": "code",
   "execution_count": null,
   "id": "a608b5f3-99e4-482b-b327-602e29c68bed",
   "metadata": {},
   "outputs": [],
   "source": []
  }
 ],
 "metadata": {
  "kernelspec": {
   "display_name": "Python 3 (ipykernel)",
   "language": "python",
   "name": "python3"
  },
  "language_info": {
   "codemirror_mode": {
    "name": "ipython",
    "version": 3
   },
   "file_extension": ".py",
   "mimetype": "text/x-python",
   "name": "python",
   "nbconvert_exporter": "python",
   "pygments_lexer": "ipython3",
   "version": "3.10.8"
  }
 },
 "nbformat": 4,
 "nbformat_minor": 5
}
