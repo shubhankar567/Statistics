{
 "cells": [
  {
   "cell_type": "markdown",
   "id": "a25eaad1-1ea4-4950-84c5-75304eebafcd",
   "metadata": {},
   "source": [
    "# Answer 1:\n",
    "A **t-test** is used when you have a small sample size (n < 30) and the population variance is unknown. It is based on the t-distribution. On the other hand, a z-test is used when you have a large sample size (n > 30) and the population variance is known. It is based on the normal distribution.\n",
    "\n",
    "An example scenario where you would use a t-test could be if you want to compare the average test scores of two small classes with less than 30 students each. An example scenario where you would use a z-test could be if you want to compare the proportion of people who prefer one brand over another in two large cities with populations greater than 30."
   ]
  },
  {
   "cell_type": "markdown",
   "id": "a8b92db4-916a-4e5a-9b01-86bf6d44bf6d",
   "metadata": {},
   "source": [
    "# Answer 2:\n",
    "One-tailed and two-tailed tests refer to the number and direction of the ends of the alternative hypothesis in a statistical hypothesis test. A **one-tailed test** is used for testing one side of the hypothesis, either greater or lesser than the population mean, and is represented directionally. A **two-tailed test** is used for testing whether the sample mean is significantly different from the population mean in either direction, and is non-directional."
   ]
  },
  {
   "cell_type": "markdown",
   "id": "286223de-1280-46d4-89ab-766485fe73a4",
   "metadata": {},
   "source": [
    "# Answer 3:\n",
    "In statistics, a **Type I error** is a false positive conclusion, while a **Type II error** is a false negative conclusion. Making a statistical decision always involves uncertainties, so the risks of making these errors are unavoidable in hypothesis testing.\n",
    "\n",
    "An example scenario for a **Type I error** (false positive) would be if you decide to get tested for COVID-19 based on mild symptoms and the test result says you have coronavirus, but you actually don’t.\n",
    "\n",
    "An example scenario for a **Type II error** (false negative) would be if you decide to get tested for COVID-19 based on mild symptoms and the test result says you don’t have coronavirus, but you actually do."
   ]
  },
  {
   "cell_type": "markdown",
   "id": "d4a1e407-9d56-4bb4-aae3-5c3516e8e467",
   "metadata": {},
   "source": [
    "# Answer 4:\n",
    "Bayes's theorem is a means for revising predictions in light of relevant evidence, also known as conditional probability or inverse probability. The theorem was discovered among the papers of the English Presbyterian minister and mathematician Thomas Bayes and published posthumously in 1763.\n",
    "\n",
    "Here's an example to illustrate Bayes's theorem: Suppose an intravenous drug user undergoes testing for HIV where experience has indicated a 25 percent chance that the person has HIV; thus, the prior probability Pr (H) is 0.25, where H is the hypothesis that the person has HIV. A quick test for HIV can be conducted, but it is not infallible: almost all individuals who have been infected long enough to produce an immune system response can be detected, but very recent infections may go undetected. In addition, “false positive” test results (that is, false indications of infection) occur in 0.4 percent of people who are not infected; therefore, the probability Pr −H (E) is 0.004, where E is a positive result on the test."
   ]
  },
  {
   "cell_type": "markdown",
   "id": "bdcab845-f47c-4fb0-a42f-7e4997af2cf2",
   "metadata": {},
   "source": [
    "# Answer 5:\n",
    "A confidence interval is the range of values that you expect your estimate to fall between a certain percentage of the time if you run your experiment again or re-sample the population in the same way. The confidence level is the percentage of times you expect to reproduce an estimate between the upper and lower bounds of the confidence interval, and is set by the alpha value.\n",
    "\n",
    "Here's an example to illustrate how to calculate a confidence interval: Suppose we measure the heights of 40 randomly chosen men, and get a mean height of 175cm. We also know the standard deviation of men's heights is 20cm. The formula to calculate a confidence interval for a population mean is as follows: Confidence Interval = $x \\pm z\\times (\\frac{s}{\\sqrt(n)})$ where: x: sample mean, z: the chosen z-value, s: sample standard deviation, n: sample size."
   ]
  },
  {
   "cell_type": "markdown",
   "id": "1820c56f-95cf-4067-b72a-a3e5d5102b91",
   "metadata": {},
   "source": [
    "# Answer 6:\n",
    "Here's an example to illustrate how to use Bayes' Theorem to calculate the probability of an event occurring given prior knowledge of the event's probability and new evidence:\n",
    "\n",
    "Suppose a city has two hospitals: Hospital A and Hospital B. Hospital A is larger and has a 90% chance of correctly diagnosing a patient with a certain disease, while Hospital B is smaller and has an 80% chance of correctly diagnosing a patient with the same disease. Suppose also that 75% of the city's population goes to Hospital A and 25% goes to Hospital B.\n",
    "\n",
    "Now, suppose a patient is diagnosed with the disease. What is the probability that they were diagnosed at Hospital A?\n",
    "\n",
    "Let A represent the event that the patient was diagnosed at Hospital A and B represent the event that they were diagnosed at Hospital B. Let D represent the event that the patient was diagnosed with the disease.\n",
    "\n",
    "We know from the problem statement that:\n",
    "P(A) = 0.75\n",
    "P(B) = 0.25\n",
    "P(D|A) = 0.90\n",
    "P(D|B) = 0.80\n",
    "\n",
    "Using Bayes' Theorem, we can calculate the probability that the patient was diagnosed at Hospital A given that they were diagnosed with the disease as follows:\n",
    "\n",
    "P(A|D) = P(D|A) * P(A) / [P(D|A) * P(A) + P(D|B) * P(B)]\n",
    "       = (0.90 * 0.75) / [(0.90 * 0.75) + (0.80 * 0.25)]\n",
    "       = 0.77\n",
    "\n",
    "So, given that a patient was diagnosed with the disease, there is a 77% chance that they were diagnosed at Hospital A."
   ]
  },
  {
   "cell_type": "markdown",
   "id": "077e6d34-f362-4153-acd0-10dda16ef1d7",
   "metadata": {},
   "source": [
    "# Answer 7:\n",
    "Given a sample size of 50, a sample mean of 50, and a sample standard deviation of 5, we can calculate the 95% confidence interval for the population mean as follows:\n",
    "\n",
    "First, we need to determine the appropriate critical value for a 95% confidence level. Since we are dealing with a normal distribution and a large sample size (n > 30), we can use the standard normal distribution (z-distribution) to determine the critical value. For a 95% confidence level, the critical value is 1.96.\n",
    "\n",
    "Next, we can calculate the standard error of the mean by dividing the sample standard deviation by the square root of the sample size: SE = 5 / sqrt(50) = 0.7071.\n",
    "\n",
    "Finally, we can calculate the margin of error by multiplying the critical value by the standard error: ME = 1.96 * 0.7071 = 1.386.\n",
    "\n",
    "The 95% confidence interval for the population mean is therefore given by: CI = [x̄ - ME, x̄ + ME] = [50 - 1.386, 50 + 1.386] = [48.614, 51.386].\n",
    "\n",
    "We can interpret this result as follows: We are 95% confident that the true population mean falls within the range of [48.614, 51.386]."
   ]
  },
  {
   "cell_type": "markdown",
   "id": "373b76cf-d16c-4f7d-acfa-18e205d62b48",
   "metadata": {},
   "source": [
    "# Answer 8:\n",
    "The margin of error in a confidence interval represents the maximum expected difference between the true population parameter and the sample estimate of that parameter. It is calculated by multiplying the critical value for the desired level of confidence by the standard error of the sample estimate.\n",
    "\n",
    "The sample size affects the margin of error because it is used to calculate the standard error. As the sample size increases, the standard error decreases, which in turn decreases the margin of error. This means that a larger sample size will result in a smaller margin of error and a more precise estimate of the population parameter.\n",
    "\n",
    "Here's an example to illustrate this: Suppose we want to estimate the mean height of a population based on a random sample. If we have a sample size of 30 and calculate a 95% confidence interval for the population mean, we might get a margin of error of 3 cm. However, if we increase the sample size to 100 and calculate the 95% confidence interval again, we might get a smaller margin of error, say 2 cm. This means that by increasing the sample size, we have obtained a more precise estimate of the population mean."
   ]
  },
  {
   "cell_type": "markdown",
   "id": "6540114e-0945-42a5-a4d9-de9bf58e40de",
   "metadata": {},
   "source": [
    "# Answer 9:\n",
    "The z-score for a data point is calculated by subtracting the population mean from the data point's value and then dividing the result by the population standard deviation. Given a data point with a value of 75, a population mean of 70, and a population standard deviation of 5, we can calculate the z-score as follows:\n",
    "\n",
    "z = (75 - 70) / 5 = 1\n",
    "\n",
    "This z-score tells us that the data point is 1 standard deviation above the population mean. In other words, the value of 75 is higher than the average value in the population."
   ]
  },
  {
   "cell_type": "markdown",
   "id": "ff8eb93e-ada5-4d11-bfbb-d0c05e2091df",
   "metadata": {},
   "source": [
    "# Answer 10:"
   ]
  },
  {
   "cell_type": "code",
   "execution_count": 3,
   "id": "7e171b7c-c0ee-48c0-b266-f0dc7fc4e646",
   "metadata": {},
   "outputs": [
    {
     "name": "stdout",
     "output_type": "stream",
     "text": [
      "t-statistic: 16.97\n",
      "p-value: 0.0000\n",
      "Reject the null hypothesis. The drug is effective.\n"
     ]
    }
   ],
   "source": [
    "from scipy import stats\n",
    "\n",
    "# sample data\n",
    "n = 50\n",
    "x_bar = 6\n",
    "s = 2.5\n",
    "\n",
    "# null hypothesis population mean\n",
    "mu = 0\n",
    "\n",
    "# calculate t-statistic\n",
    "t_statistic = (x_bar - mu) / (s / (n ** 0.5))\n",
    "print(f't-statistic: {t_statistic:.2f}')\n",
    "\n",
    "# calculate p-value\n",
    "p_value = stats.t.sf(t_statistic, n-1)\n",
    "print(f'p-value: {p_value:.4f}')\n",
    "\n",
    "# interpret the results\n",
    "alpha = 0.05\n",
    "if p_value < alpha:\n",
    "    print('Reject the null hypothesis. The drug is effective.')\n",
    "else:\n",
    "    print('Fail to reject the null hypothesis. The drug is not effective.')\n"
   ]
  },
  {
   "cell_type": "markdown",
   "id": "5fb32dc7-31d8-45bf-a8fe-43e1ec2f9663",
   "metadata": {},
   "source": [
    "# Answer 11:\n"
   ]
  },
  {
   "cell_type": "code",
   "execution_count": 4,
   "id": "785d5f87-6aa4-440f-a3ad-64c88545fe80",
   "metadata": {},
   "outputs": [
    {
     "name": "stdout",
     "output_type": "stream",
     "text": [
      "95% confidence interval: [0.6082, 0.6918]\n"
     ]
    }
   ],
   "source": [
    "import scipy.stats as stats\n",
    "\n",
    "# sample data\n",
    "n = 500\n",
    "p_hat = 0.65\n",
    "\n",
    "# calculate standard error\n",
    "se = (p_hat * (1 - p_hat) / n) ** 0.5\n",
    "\n",
    "# calculate margin of error\n",
    "me = stats.norm.ppf(0.975) * se\n",
    "\n",
    "# calculate confidence interval\n",
    "ci = (p_hat - me, p_hat + me)\n",
    "print(f'95% confidence interval: [{ci[0]:.4f}, {ci[1]:.4f}]')\n"
   ]
  },
  {
   "cell_type": "markdown",
   "id": "4fb8d4b6-bb50-45ea-aeab-3bc7c0eb298a",
   "metadata": {},
   "source": [
    "# Answer 12:"
   ]
  },
  {
   "cell_type": "code",
   "execution_count": 1,
   "id": "a7fd0cec-e14c-4263-9629-c8ca7b14132a",
   "metadata": {},
   "outputs": [
    {
     "name": "stdout",
     "output_type": "stream",
     "text": [
      "t-statistic: 2.86\n",
      "p-value: 0.0051\n",
      "Reject the null hypothesis. There is a significant difference in student performance between the two teaching methods.\n"
     ]
    }
   ],
   "source": [
    "from scipy import stats\n",
    "import numpy as np\n",
    "\n",
    "# sample data\n",
    "n1 = 50\n",
    "x1 = 85\n",
    "s1 = 6\n",
    "\n",
    "n2 = 60\n",
    "x2 = 82\n",
    "s2 = 5\n",
    "\n",
    "# calculate degrees of freedom\n",
    "df = n1 + n2 - 2\n",
    "\n",
    "# calculate pooled standard deviation\n",
    "sp = np.sqrt(((n1 - 1) * (s1 ** 2) + (n2 - 1) * (s2 ** 2)) / df)\n",
    "\n",
    "# calculate t-statistic\n",
    "t_statistic = (x1 - x2) / (sp * np.sqrt((1 / n1) + (1 / n2)))\n",
    "print(f't-statistic: {t_statistic:.2f}')\n",
    "\n",
    "# calculate p-value\n",
    "p_value = stats.t.sf(np.abs(t_statistic), df) * 2\n",
    "print(f'p-value: {p_value:.4f}')\n",
    "\n",
    "# interpret the results\n",
    "alpha = 0.01\n",
    "if p_value < alpha:\n",
    "    print('Reject the null hypothesis. There is a significant difference in student performance between the two teaching methods.')\n",
    "else:\n",
    "    print('Fail to reject the null hypothesis. There is not a significant difference in student performance between the two teaching methods.')\n"
   ]
  },
  {
   "cell_type": "markdown",
   "id": "563eba5b-f715-4feb-90c9-3076e38ee19f",
   "metadata": {},
   "source": [
    "# Answer 13:\n"
   ]
  },
  {
   "cell_type": "code",
   "execution_count": 2,
   "id": "2610ab35-6d82-450c-bbde-e6468b758089",
   "metadata": {},
   "outputs": [
    {
     "name": "stdout",
     "output_type": "stream",
     "text": [
      "90% confidence interval: [63.1391, 66.8609]\n"
     ]
    }
   ],
   "source": [
    "from scipy import stats\n",
    "\n",
    "# population data\n",
    "mu = 60\n",
    "sigma = 8\n",
    "\n",
    "# sample data\n",
    "n = 50\n",
    "x_bar = 65\n",
    "\n",
    "# calculate standard error\n",
    "se = sigma / (n ** 0.5)\n",
    "\n",
    "# calculate margin of error\n",
    "me = stats.norm.ppf(0.95) * se\n",
    "\n",
    "# calculate confidence interval\n",
    "ci = (x_bar - me, x_bar + me)\n",
    "print(f'90% confidence interval: [{ci[0]:.4f}, {ci[1]:.4f}]')\n"
   ]
  },
  {
   "cell_type": "markdown",
   "id": "0766d2ac-e3df-432d-b907-8ba248b99e48",
   "metadata": {},
   "source": [
    "# Answer 14:"
   ]
  },
  {
   "cell_type": "code",
   "execution_count": 3,
   "id": "6c2e3d04-bff9-4f3b-a1a8-b6edda6bc53a",
   "metadata": {},
   "outputs": [
    {
     "name": "stdout",
     "output_type": "stream",
     "text": [
      "t-statistic: -5.48\n",
      "p-value: 0.0000\n",
      "Reject the null hypothesis. Caffeine has a significant effect on reaction time.\n"
     ]
    }
   ],
   "source": [
    "from scipy import stats\n",
    "\n",
    "# population mean reaction time without caffeine\n",
    "mu = 0.30\n",
    "\n",
    "# sample data\n",
    "n = 30\n",
    "x_bar = 0.25\n",
    "s = 0.05\n",
    "\n",
    "# calculate t-statistic\n",
    "t_statistic = (x_bar - mu) / (s / (n ** 0.5))\n",
    "print(f't-statistic: {t_statistic:.2f}')\n",
    "\n",
    "# calculate p-value\n",
    "p_value = stats.t.sf(np.abs(t_statistic), n-1) * 2\n",
    "print(f'p-value: {p_value:.4f}')\n",
    "\n",
    "# interpret the results\n",
    "alpha = 0.10\n",
    "if p_value < alpha:\n",
    "    print('Reject the null hypothesis. Caffeine has a significant effect on reaction time.')\n",
    "else:\n",
    "    print('Fail to reject the null hypothesis. Caffeine does not have a significant effect on reaction time.')\n"
   ]
  },
  {
   "cell_type": "code",
   "execution_count": null,
   "id": "19a2af72-5f66-466e-bac6-d6a4e53335e1",
   "metadata": {},
   "outputs": [],
   "source": []
  }
 ],
 "metadata": {
  "kernelspec": {
   "display_name": "Python 3 (ipykernel)",
   "language": "python",
   "name": "python3"
  },
  "language_info": {
   "codemirror_mode": {
    "name": "ipython",
    "version": 3
   },
   "file_extension": ".py",
   "mimetype": "text/x-python",
   "name": "python",
   "nbconvert_exporter": "python",
   "pygments_lexer": "ipython3",
   "version": "3.10.8"
  }
 },
 "nbformat": 4,
 "nbformat_minor": 5
}
